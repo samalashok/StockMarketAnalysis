{
 "cells": [
  {
   "cell_type": "markdown",
   "id": "176dc37b",
   "metadata": {},
   "source": [
    "# News Classification using Logistic Regression Model"
   ]
  },
  {
   "cell_type": "code",
   "execution_count": 1,
   "id": "1b0ce1ff",
   "metadata": {},
   "outputs": [],
   "source": [
    "import pandas as pd\n",
    "import numpy as np\n",
    "from sklearn.metrics import accuracy_score,precision_score,recall_score,f1_score,confusion_matrix"
   ]
  },
  {
   "cell_type": "code",
   "execution_count": 2,
   "id": "ff1de2e7",
   "metadata": {},
   "outputs": [
    {
     "data": {
      "text/html": [
       "<div>\n",
       "<style scoped>\n",
       "    .dataframe tbody tr th:only-of-type {\n",
       "        vertical-align: middle;\n",
       "    }\n",
       "\n",
       "    .dataframe tbody tr th {\n",
       "        vertical-align: top;\n",
       "    }\n",
       "\n",
       "    .dataframe thead th {\n",
       "        text-align: right;\n",
       "    }\n",
       "</style>\n",
       "<table border=\"1\" class=\"dataframe\">\n",
       "  <thead>\n",
       "    <tr style=\"text-align: right;\">\n",
       "      <th></th>\n",
       "      <th>news</th>\n",
       "      <th>output</th>\n",
       "    </tr>\n",
       "  </thead>\n",
       "  <tbody>\n",
       "    <tr>\n",
       "      <th>0</th>\n",
       "      <td>Sensex rises over 100 points; Nifty reclaims 1...</td>\n",
       "      <td>2</td>\n",
       "    </tr>\n",
       "    <tr>\n",
       "      <th>1</th>\n",
       "      <td>Corporate affairs min says no illegality in co...</td>\n",
       "      <td>1</td>\n",
       "    </tr>\n",
       "    <tr>\n",
       "      <th>2</th>\n",
       "      <td>SBI looks to divest 1% stake in NSE</td>\n",
       "      <td>2</td>\n",
       "    </tr>\n",
       "    <tr>\n",
       "      <th>3</th>\n",
       "      <td>DKD family war to air Grand Finale on January 5</td>\n",
       "      <td>1</td>\n",
       "    </tr>\n",
       "    <tr>\n",
       "      <th>4</th>\n",
       "      <td>After Cyrus Mistry’s exit, growing under N Cha...</td>\n",
       "      <td>2</td>\n",
       "    </tr>\n",
       "    <tr>\n",
       "      <th>...</th>\n",
       "      <td>...</td>\n",
       "      <td>...</td>\n",
       "    </tr>\n",
       "    <tr>\n",
       "      <th>2227</th>\n",
       "      <td>UK’s Old War Office opens as hotel</td>\n",
       "      <td>1</td>\n",
       "    </tr>\n",
       "    <tr>\n",
       "      <th>2228</th>\n",
       "      <td>Sensex falls 610 pts on selling spree, weak cues</td>\n",
       "      <td>0</td>\n",
       "    </tr>\n",
       "    <tr>\n",
       "      <th>2229</th>\n",
       "      <td>US inflation expectations fall in September</td>\n",
       "      <td>1</td>\n",
       "    </tr>\n",
       "    <tr>\n",
       "      <th>2230</th>\n",
       "      <td>Dussehra war for Shivaji Park begins anew betw...</td>\n",
       "      <td>1</td>\n",
       "    </tr>\n",
       "    <tr>\n",
       "      <th>2231</th>\n",
       "      <td>Inflation in Europe dips to 2-year low</td>\n",
       "      <td>2</td>\n",
       "    </tr>\n",
       "  </tbody>\n",
       "</table>\n",
       "<p>2232 rows × 2 columns</p>\n",
       "</div>"
      ],
      "text/plain": [
       "                                                   news  output\n",
       "0     Sensex rises over 100 points; Nifty reclaims 1...       2\n",
       "1     Corporate affairs min says no illegality in co...       1\n",
       "2                   SBI looks to divest 1% stake in NSE       2\n",
       "3       DKD family war to air Grand Finale on January 5       1\n",
       "4     After Cyrus Mistry’s exit, growing under N Cha...       2\n",
       "...                                                 ...     ...\n",
       "2227                 UK’s Old War Office opens as hotel       1\n",
       "2228   Sensex falls 610 pts on selling spree, weak cues       0\n",
       "2229        US inflation expectations fall in September       1\n",
       "2230  Dussehra war for Shivaji Park begins anew betw...       1\n",
       "2231             Inflation in Europe dips to 2-year low       2\n",
       "\n",
       "[2232 rows x 2 columns]"
      ]
     },
     "execution_count": 2,
     "metadata": {},
     "output_type": "execute_result"
    }
   ],
   "source": [
    "df=pd.read_csv(\"final_news.csv\")\n",
    "df=df.drop(\"Date\",axis=1)\n",
    "df"
   ]
  },
  {
   "cell_type": "code",
   "execution_count": 3,
   "id": "c51eab3a",
   "metadata": {},
   "outputs": [],
   "source": [
    "#preprocessing\n",
    "\n",
    "import re\n",
    "import string\n",
    "\n",
    "def preprocess(article):\n",
    "    article=article.strip().replace('\\n',' ')\n",
    "    article=\"\".join([i for i in article if i not in string.punctuation])\n",
    "    article=re.sub(r'\\s+', ' ', article)\n",
    "    return article.lower()"
   ]
  },
  {
   "cell_type": "code",
   "execution_count": 4,
   "id": "c5556bd4",
   "metadata": {},
   "outputs": [
    {
     "data": {
      "text/html": [
       "<div>\n",
       "<style scoped>\n",
       "    .dataframe tbody tr th:only-of-type {\n",
       "        vertical-align: middle;\n",
       "    }\n",
       "\n",
       "    .dataframe tbody tr th {\n",
       "        vertical-align: top;\n",
       "    }\n",
       "\n",
       "    .dataframe thead th {\n",
       "        text-align: right;\n",
       "    }\n",
       "</style>\n",
       "<table border=\"1\" class=\"dataframe\">\n",
       "  <thead>\n",
       "    <tr style=\"text-align: right;\">\n",
       "      <th></th>\n",
       "      <th>news</th>\n",
       "      <th>output</th>\n",
       "      <th>news1</th>\n",
       "    </tr>\n",
       "  </thead>\n",
       "  <tbody>\n",
       "    <tr>\n",
       "      <th>0</th>\n",
       "      <td>Sensex rises over 100 points; Nifty reclaims 1...</td>\n",
       "      <td>2</td>\n",
       "      <td>sensex rises over 100 points nifty reclaims 12200</td>\n",
       "    </tr>\n",
       "    <tr>\n",
       "      <th>1</th>\n",
       "      <td>Corporate affairs min says no illegality in co...</td>\n",
       "      <td>1</td>\n",
       "      <td>corporate affairs min says no illegality in co...</td>\n",
       "    </tr>\n",
       "    <tr>\n",
       "      <th>2</th>\n",
       "      <td>SBI looks to divest 1% stake in NSE</td>\n",
       "      <td>2</td>\n",
       "      <td>sbi looks to divest 1 stake in nse</td>\n",
       "    </tr>\n",
       "    <tr>\n",
       "      <th>3</th>\n",
       "      <td>DKD family war to air Grand Finale on January 5</td>\n",
       "      <td>1</td>\n",
       "      <td>dkd family war to air grand finale on january 5</td>\n",
       "    </tr>\n",
       "    <tr>\n",
       "      <th>4</th>\n",
       "      <td>After Cyrus Mistry’s exit, growing under N Cha...</td>\n",
       "      <td>2</td>\n",
       "      <td>after cyrus mistry’s exit growing under n chan...</td>\n",
       "    </tr>\n",
       "    <tr>\n",
       "      <th>...</th>\n",
       "      <td>...</td>\n",
       "      <td>...</td>\n",
       "      <td>...</td>\n",
       "    </tr>\n",
       "    <tr>\n",
       "      <th>2227</th>\n",
       "      <td>UK’s Old War Office opens as hotel</td>\n",
       "      <td>1</td>\n",
       "      <td>uk’s old war office opens as hotel</td>\n",
       "    </tr>\n",
       "    <tr>\n",
       "      <th>2228</th>\n",
       "      <td>Sensex falls 610 pts on selling spree, weak cues</td>\n",
       "      <td>0</td>\n",
       "      <td>sensex falls 610 pts on selling spree weak cues</td>\n",
       "    </tr>\n",
       "    <tr>\n",
       "      <th>2229</th>\n",
       "      <td>US inflation expectations fall in September</td>\n",
       "      <td>1</td>\n",
       "      <td>us inflation expectations fall in september</td>\n",
       "    </tr>\n",
       "    <tr>\n",
       "      <th>2230</th>\n",
       "      <td>Dussehra war for Shivaji Park begins anew betw...</td>\n",
       "      <td>1</td>\n",
       "      <td>dussehra war for shivaji park begins anew betw...</td>\n",
       "    </tr>\n",
       "    <tr>\n",
       "      <th>2231</th>\n",
       "      <td>Inflation in Europe dips to 2-year low</td>\n",
       "      <td>2</td>\n",
       "      <td>inflation in europe dips to 2year low</td>\n",
       "    </tr>\n",
       "  </tbody>\n",
       "</table>\n",
       "<p>2232 rows × 3 columns</p>\n",
       "</div>"
      ],
      "text/plain": [
       "                                                   news  output  \\\n",
       "0     Sensex rises over 100 points; Nifty reclaims 1...       2   \n",
       "1     Corporate affairs min says no illegality in co...       1   \n",
       "2                   SBI looks to divest 1% stake in NSE       2   \n",
       "3       DKD family war to air Grand Finale on January 5       1   \n",
       "4     After Cyrus Mistry’s exit, growing under N Cha...       2   \n",
       "...                                                 ...     ...   \n",
       "2227                 UK’s Old War Office opens as hotel       1   \n",
       "2228   Sensex falls 610 pts on selling spree, weak cues       0   \n",
       "2229        US inflation expectations fall in September       1   \n",
       "2230  Dussehra war for Shivaji Park begins anew betw...       1   \n",
       "2231             Inflation in Europe dips to 2-year low       2   \n",
       "\n",
       "                                                  news1  \n",
       "0     sensex rises over 100 points nifty reclaims 12200  \n",
       "1     corporate affairs min says no illegality in co...  \n",
       "2                    sbi looks to divest 1 stake in nse  \n",
       "3       dkd family war to air grand finale on january 5  \n",
       "4     after cyrus mistry’s exit growing under n chan...  \n",
       "...                                                 ...  \n",
       "2227                 uk’s old war office opens as hotel  \n",
       "2228    sensex falls 610 pts on selling spree weak cues  \n",
       "2229        us inflation expectations fall in september  \n",
       "2230  dussehra war for shivaji park begins anew betw...  \n",
       "2231              inflation in europe dips to 2year low  \n",
       "\n",
       "[2232 rows x 3 columns]"
      ]
     },
     "execution_count": 4,
     "metadata": {},
     "output_type": "execute_result"
    }
   ],
   "source": [
    "df['news1']=df['news'].apply(lambda x: preprocess(x))\n",
    "df"
   ]
  },
  {
   "cell_type": "code",
   "execution_count": 5,
   "id": "de3523e2",
   "metadata": {},
   "outputs": [],
   "source": [
    "#lemmatization\n",
    "\n",
    "import nltk\n",
    "from nltk.stem import WordNetLemmatizer\n",
    "\n",
    "def lemmatizeNews(article):\n",
    "    tokens=re.split(' ',article)\n",
    "    stopwords=nltk.corpus.stopwords.words('english')\n",
    "    tokens= [i for i in tokens if i not in stopwords]\n",
    "    lemmatizer=WordNetLemmatizer()\n",
    "    lemm_text = [lemmatizer.lemmatize(word) for word in tokens]\n",
    "    lemm_text=\" \".join(lemm_text)\n",
    "    return lemm_text"
   ]
  },
  {
   "cell_type": "code",
   "execution_count": 6,
   "id": "6431bdab",
   "metadata": {},
   "outputs": [
    {
     "data": {
      "text/html": [
       "<div>\n",
       "<style scoped>\n",
       "    .dataframe tbody tr th:only-of-type {\n",
       "        vertical-align: middle;\n",
       "    }\n",
       "\n",
       "    .dataframe tbody tr th {\n",
       "        vertical-align: top;\n",
       "    }\n",
       "\n",
       "    .dataframe thead th {\n",
       "        text-align: right;\n",
       "    }\n",
       "</style>\n",
       "<table border=\"1\" class=\"dataframe\">\n",
       "  <thead>\n",
       "    <tr style=\"text-align: right;\">\n",
       "      <th></th>\n",
       "      <th>output</th>\n",
       "      <th>News</th>\n",
       "    </tr>\n",
       "  </thead>\n",
       "  <tbody>\n",
       "    <tr>\n",
       "      <th>0</th>\n",
       "      <td>2</td>\n",
       "      <td>sensex rise 100 point nifty reclaims 12200</td>\n",
       "    </tr>\n",
       "    <tr>\n",
       "      <th>1</th>\n",
       "      <td>1</td>\n",
       "      <td>corporate affair min say illegality conversion...</td>\n",
       "    </tr>\n",
       "    <tr>\n",
       "      <th>2</th>\n",
       "      <td>2</td>\n",
       "      <td>sbi look divest 1 stake nse</td>\n",
       "    </tr>\n",
       "    <tr>\n",
       "      <th>3</th>\n",
       "      <td>1</td>\n",
       "      <td>dkd family war air grand finale january 5</td>\n",
       "    </tr>\n",
       "    <tr>\n",
       "      <th>4</th>\n",
       "      <td>2</td>\n",
       "      <td>cyrus mistry’s exit growing n chandrasekaran t...</td>\n",
       "    </tr>\n",
       "    <tr>\n",
       "      <th>...</th>\n",
       "      <td>...</td>\n",
       "      <td>...</td>\n",
       "    </tr>\n",
       "    <tr>\n",
       "      <th>2227</th>\n",
       "      <td>1</td>\n",
       "      <td>uk’s old war office open hotel</td>\n",
       "    </tr>\n",
       "    <tr>\n",
       "      <th>2228</th>\n",
       "      <td>0</td>\n",
       "      <td>sensex fall 610 pt selling spree weak cue</td>\n",
       "    </tr>\n",
       "    <tr>\n",
       "      <th>2229</th>\n",
       "      <td>1</td>\n",
       "      <td>u inflation expectation fall september</td>\n",
       "    </tr>\n",
       "    <tr>\n",
       "      <th>2230</th>\n",
       "      <td>1</td>\n",
       "      <td>dussehra war shivaji park begin anew senas</td>\n",
       "    </tr>\n",
       "    <tr>\n",
       "      <th>2231</th>\n",
       "      <td>2</td>\n",
       "      <td>inflation europe dip 2year low</td>\n",
       "    </tr>\n",
       "  </tbody>\n",
       "</table>\n",
       "<p>2232 rows × 2 columns</p>\n",
       "</div>"
      ],
      "text/plain": [
       "      output                                               News\n",
       "0          2         sensex rise 100 point nifty reclaims 12200\n",
       "1          1  corporate affair min say illegality conversion...\n",
       "2          2                        sbi look divest 1 stake nse\n",
       "3          1          dkd family war air grand finale january 5\n",
       "4          2  cyrus mistry’s exit growing n chandrasekaran t...\n",
       "...      ...                                                ...\n",
       "2227       1                     uk’s old war office open hotel\n",
       "2228       0          sensex fall 610 pt selling spree weak cue\n",
       "2229       1             u inflation expectation fall september\n",
       "2230       1         dussehra war shivaji park begin anew senas\n",
       "2231       2                     inflation europe dip 2year low\n",
       "\n",
       "[2232 rows x 2 columns]"
      ]
     },
     "execution_count": 6,
     "metadata": {},
     "output_type": "execute_result"
    }
   ],
   "source": [
    "df['News']=df['news1'].apply(lambda x: lemmatizeNews(x))\n",
    "df=df.drop('news',axis=1)\n",
    "df=df.drop('news1',axis=1)\n",
    "df"
   ]
  },
  {
   "cell_type": "code",
   "execution_count": 7,
   "id": "5808d108",
   "metadata": {},
   "outputs": [],
   "source": [
    "x=df['News']\n",
    "y=df['output']"
   ]
  },
  {
   "cell_type": "code",
   "execution_count": 8,
   "id": "67c8dbf1",
   "metadata": {},
   "outputs": [],
   "source": [
    "#splitting data into train and test sets\n",
    "from sklearn.model_selection import train_test_split\n",
    "\n",
    "x_train,x_test,y_train,y_test=train_test_split(x,y,test_size=0.3,random_state=43)"
   ]
  },
  {
   "cell_type": "code",
   "execution_count": 9,
   "id": "93873b02",
   "metadata": {},
   "outputs": [],
   "source": [
    "from sklearn.feature_extraction.text import TfidfVectorizer\n",
    "tf_idf=TfidfVectorizer(ngram_range=(1,2))\n",
    "\n",
    "x_train=tf_idf.fit_transform(x_train)\n",
    "x_test=tf_idf.transform(x_test)\n",
    "\n",
    "x_train=x_train.toarray()\n",
    "x_test=x_test.toarray()"
   ]
  },
  {
   "cell_type": "code",
   "execution_count": 10,
   "id": "23d063d7",
   "metadata": {},
   "outputs": [
    {
     "data": {
      "text/plain": [
       "['vectorizer.sav']"
      ]
     },
     "execution_count": 10,
     "metadata": {},
     "output_type": "execute_result"
    }
   ],
   "source": [
    "import joblib\n",
    "joblib.dump(tf_idf, \"vectorizer.sav\")"
   ]
  },
  {
   "cell_type": "code",
   "execution_count": 15,
   "id": "0fe9ba0f",
   "metadata": {},
   "outputs": [
    {
     "data": {
      "text/html": [
       "<style>#sk-container-id-1 {color: black;}#sk-container-id-1 pre{padding: 0;}#sk-container-id-1 div.sk-toggleable {background-color: white;}#sk-container-id-1 label.sk-toggleable__label {cursor: pointer;display: block;width: 100%;margin-bottom: 0;padding: 0.3em;box-sizing: border-box;text-align: center;}#sk-container-id-1 label.sk-toggleable__label-arrow:before {content: \"▸\";float: left;margin-right: 0.25em;color: #696969;}#sk-container-id-1 label.sk-toggleable__label-arrow:hover:before {color: black;}#sk-container-id-1 div.sk-estimator:hover label.sk-toggleable__label-arrow:before {color: black;}#sk-container-id-1 div.sk-toggleable__content {max-height: 0;max-width: 0;overflow: hidden;text-align: left;background-color: #f0f8ff;}#sk-container-id-1 div.sk-toggleable__content pre {margin: 0.2em;color: black;border-radius: 0.25em;background-color: #f0f8ff;}#sk-container-id-1 input.sk-toggleable__control:checked~div.sk-toggleable__content {max-height: 200px;max-width: 100%;overflow: auto;}#sk-container-id-1 input.sk-toggleable__control:checked~label.sk-toggleable__label-arrow:before {content: \"▾\";}#sk-container-id-1 div.sk-estimator input.sk-toggleable__control:checked~label.sk-toggleable__label {background-color: #d4ebff;}#sk-container-id-1 div.sk-label input.sk-toggleable__control:checked~label.sk-toggleable__label {background-color: #d4ebff;}#sk-container-id-1 input.sk-hidden--visually {border: 0;clip: rect(1px 1px 1px 1px);clip: rect(1px, 1px, 1px, 1px);height: 1px;margin: -1px;overflow: hidden;padding: 0;position: absolute;width: 1px;}#sk-container-id-1 div.sk-estimator {font-family: monospace;background-color: #f0f8ff;border: 1px dotted black;border-radius: 0.25em;box-sizing: border-box;margin-bottom: 0.5em;}#sk-container-id-1 div.sk-estimator:hover {background-color: #d4ebff;}#sk-container-id-1 div.sk-parallel-item::after {content: \"\";width: 100%;border-bottom: 1px solid gray;flex-grow: 1;}#sk-container-id-1 div.sk-label:hover label.sk-toggleable__label {background-color: #d4ebff;}#sk-container-id-1 div.sk-serial::before {content: \"\";position: absolute;border-left: 1px solid gray;box-sizing: border-box;top: 0;bottom: 0;left: 50%;z-index: 0;}#sk-container-id-1 div.sk-serial {display: flex;flex-direction: column;align-items: center;background-color: white;padding-right: 0.2em;padding-left: 0.2em;position: relative;}#sk-container-id-1 div.sk-item {position: relative;z-index: 1;}#sk-container-id-1 div.sk-parallel {display: flex;align-items: stretch;justify-content: center;background-color: white;position: relative;}#sk-container-id-1 div.sk-item::before, #sk-container-id-1 div.sk-parallel-item::before {content: \"\";position: absolute;border-left: 1px solid gray;box-sizing: border-box;top: 0;bottom: 0;left: 50%;z-index: -1;}#sk-container-id-1 div.sk-parallel-item {display: flex;flex-direction: column;z-index: 1;position: relative;background-color: white;}#sk-container-id-1 div.sk-parallel-item:first-child::after {align-self: flex-end;width: 50%;}#sk-container-id-1 div.sk-parallel-item:last-child::after {align-self: flex-start;width: 50%;}#sk-container-id-1 div.sk-parallel-item:only-child::after {width: 0;}#sk-container-id-1 div.sk-dashed-wrapped {border: 1px dashed gray;margin: 0 0.4em 0.5em 0.4em;box-sizing: border-box;padding-bottom: 0.4em;background-color: white;}#sk-container-id-1 div.sk-label label {font-family: monospace;font-weight: bold;display: inline-block;line-height: 1.2em;}#sk-container-id-1 div.sk-label-container {text-align: center;}#sk-container-id-1 div.sk-container {/* jupyter's `normalize.less` sets `[hidden] { display: none; }` but bootstrap.min.css set `[hidden] { display: none !important; }` so we also need the `!important` here to be able to override the default hidden behavior on the sphinx rendered scikit-learn.org. See: https://github.com/scikit-learn/scikit-learn/issues/21755 */display: inline-block !important;position: relative;}#sk-container-id-1 div.sk-text-repr-fallback {display: none;}</style><div id=\"sk-container-id-1\" class=\"sk-top-container\"><div class=\"sk-text-repr-fallback\"><pre>LogisticRegression()</pre><b>In a Jupyter environment, please rerun this cell to show the HTML representation or trust the notebook. <br />On GitHub, the HTML representation is unable to render, please try loading this page with nbviewer.org.</b></div><div class=\"sk-container\" hidden><div class=\"sk-item\"><div class=\"sk-estimator sk-toggleable\"><input class=\"sk-toggleable__control sk-hidden--visually\" id=\"sk-estimator-id-1\" type=\"checkbox\" checked><label for=\"sk-estimator-id-1\" class=\"sk-toggleable__label sk-toggleable__label-arrow\">LogisticRegression</label><div class=\"sk-toggleable__content\"><pre>LogisticRegression()</pre></div></div></div></div></div>"
      ],
      "text/plain": [
       "LogisticRegression()"
      ]
     },
     "execution_count": 15,
     "metadata": {},
     "output_type": "execute_result"
    }
   ],
   "source": [
    "from sklearn.linear_model import LogisticRegression\n",
    "\n",
    "lr=LogisticRegression()\n",
    "lr.fit(x_train,y_train)"
   ]
  },
  {
   "cell_type": "code",
   "execution_count": 16,
   "id": "391dca68",
   "metadata": {},
   "outputs": [
    {
     "data": {
      "text/plain": [
       "['log_reg_news.sav']"
      ]
     },
     "execution_count": 16,
     "metadata": {},
     "output_type": "execute_result"
    }
   ],
   "source": [
    "joblib.dump(lr, \"log_reg_news.sav\")"
   ]
  },
  {
   "cell_type": "code",
   "execution_count": 17,
   "id": "3e8af37a",
   "metadata": {},
   "outputs": [],
   "source": [
    "y_pred=lr.predict(x_test)"
   ]
  },
  {
   "cell_type": "code",
   "execution_count": 18,
   "id": "ac7e8533",
   "metadata": {},
   "outputs": [
    {
     "name": "stdout",
     "output_type": "stream",
     "text": [
      "Accuracy Score = 81.64\n",
      "Precision Score = 87.59\n",
      "Recall Score = 81.64\n",
      "F1 Score = 83.28\n"
     ]
    }
   ],
   "source": [
    "acc=accuracy_score(y_pred,y_test)\n",
    "print('Accuracy Score = %0.2F'%(acc*100))\n",
    "prec=precision_score(y_pred,y_test,average='weighted')\n",
    "print('Precision Score = %0.2F'%(prec*100))\n",
    "rec=recall_score(y_pred,y_test,average='weighted')\n",
    "print('Recall Score = %0.2F'%(rec*100))\n",
    "f1=f1_score(y_pred,y_test,average='weighted')\n",
    "print('F1 Score = %0.2F'%(f1*100))"
   ]
  },
  {
   "cell_type": "code",
   "execution_count": 19,
   "id": "644511a2",
   "metadata": {},
   "outputs": [
    {
     "data": {
      "text/plain": [
       "array([[ 52,   1,   8],\n",
       "       [ 43, 407,  49],\n",
       "       [ 17,   5,  88]], dtype=int64)"
      ]
     },
     "execution_count": 19,
     "metadata": {},
     "output_type": "execute_result"
    }
   ],
   "source": [
    "con=confusion_matrix(y_pred,y_test)\n",
    "con"
   ]
  },
  {
   "cell_type": "code",
   "execution_count": 20,
   "id": "9e9d7acc",
   "metadata": {},
   "outputs": [
    {
     "data": {
      "text/plain": [
       "[Text(0, 0.5, 'Negative'), Text(0, 1.5, 'Neutral'), Text(0, 2.5, 'Positive')]"
      ]
     },
     "execution_count": 20,
     "metadata": {},
     "output_type": "execute_result"
    },
    {
     "data": {
      "image/png": "[encoded data removed]",
      "text/plain": [
       "<Figure size 640x480 with 2 Axes>"
      ]
     },
     "metadata": {},
     "output_type": "display_data"
    }
   ],
   "source": [
    "import matplotlib.pyplot as plt\n",
    "import seaborn as sb\n",
    "\n",
    "axis=plt.subplot()\n",
    "sb.heatmap(con, annot=True, fmt='g',cmap='Greens')\n",
    "\n",
    "# labels, title and ticks\n",
    "axis.set_xlabel('Predicted labels')\n",
    "axis.set_ylabel('True labels')\n",
    "axis.set_title('Heat Map for Logistic Regression Text Classification')\n",
    "axis.xaxis.set_ticklabels(['Negative','Neutral','Positive'])\n",
    "axis.yaxis.set_ticklabels(['Negative','Neutral','Positive'])"
   ]
  },
  {
   "cell_type": "markdown",
   "id": "9ec0e30b",
   "metadata": {},
   "source": [
    "# Prediction for Today's News"
   ]
  },
  {
   "cell_type": "code",
   "execution_count": 21,
   "id": "929b15a4",
   "metadata": {},
   "outputs": [
    {
     "data": {
      "text/html": [
       "<div>\n",
       "<style scoped>\n",
       "    .dataframe tbody tr th:only-of-type {\n",
       "        vertical-align: middle;\n",
       "    }\n",
       "\n",
       "    .dataframe tbody tr th {\n",
       "        vertical-align: top;\n",
       "    }\n",
       "\n",
       "    .dataframe thead th {\n",
       "        text-align: right;\n",
       "    }\n",
       "</style>\n",
       "<table border=\"1\" class=\"dataframe\">\n",
       "  <thead>\n",
       "    <tr style=\"text-align: right;\">\n",
       "      <th></th>\n",
       "      <th>News</th>\n",
       "    </tr>\n",
       "  </thead>\n",
       "  <tbody>\n",
       "    <tr>\n",
       "      <th>0</th>\n",
       "      <td>Bengaluru’s first-ever Kambala ends on a grand...</td>\n",
       "    </tr>\n",
       "    <tr>\n",
       "      <th>1</th>\n",
       "      <td>Four-legged divas dazzle the catwalk at Bengal...</td>\n",
       "    </tr>\n",
       "    <tr>\n",
       "      <th>2</th>\n",
       "      <td>Thousands turn up to celebrate the LGBTQIA+ co...</td>\n",
       "    </tr>\n",
       "    <tr>\n",
       "      <th>3</th>\n",
       "      <td>Thousands turn up to celebrate the LGBTQIA+ co...</td>\n",
       "    </tr>\n",
       "    <tr>\n",
       "      <th>4</th>\n",
       "      <td>Playing a real-life character required me to b...</td>\n",
       "    </tr>\n",
       "    <tr>\n",
       "      <th>...</th>\n",
       "      <td>...</td>\n",
       "    </tr>\n",
       "    <tr>\n",
       "      <th>495</th>\n",
       "      <td>Innovative ways to capture big cat</td>\n",
       "    </tr>\n",
       "    <tr>\n",
       "      <th>496</th>\n",
       "      <td>Man booked for stabbing wife</td>\n",
       "    </tr>\n",
       "    <tr>\n",
       "      <th>497</th>\n",
       "      <td>Police must be more tourist-friendly: DC</td>\n",
       "    </tr>\n",
       "    <tr>\n",
       "      <th>498</th>\n",
       "      <td>Ramgarh school violence: Four minors surrender</td>\n",
       "    </tr>\n",
       "    <tr>\n",
       "      <th>499</th>\n",
       "      <td>Human-jumbo conflict on rise: Man, two tuskers...</td>\n",
       "    </tr>\n",
       "  </tbody>\n",
       "</table>\n",
       "<p>500 rows × 1 columns</p>\n",
       "</div>"
      ],
      "text/plain": [
       "                                                  News\n",
       "0    Bengaluru’s first-ever Kambala ends on a grand...\n",
       "1    Four-legged divas dazzle the catwalk at Bengal...\n",
       "2    Thousands turn up to celebrate the LGBTQIA+ co...\n",
       "3    Thousands turn up to celebrate the LGBTQIA+ co...\n",
       "4    Playing a real-life character required me to b...\n",
       "..                                                 ...\n",
       "495                 Innovative ways to capture big cat\n",
       "496                       Man booked for stabbing wife\n",
       "497           Police must be more tourist-friendly: DC\n",
       "498     Ramgarh school violence: Four minors surrender\n",
       "499  Human-jumbo conflict on rise: Man, two tuskers...\n",
       "\n",
       "[500 rows x 1 columns]"
      ]
     },
     "execution_count": 21,
     "metadata": {},
     "output_type": "execute_result"
    }
   ],
   "source": [
    "todayDf=pd.read_csv(\"Nov28News.csv\")\n",
    "todayDf=todayDf.drop(\"web-scraper-order\",axis=1)\n",
    "todayDf=todayDf.drop(\"web-scraper-start-url\",axis=1)\n",
    "todayDf"
   ]
  },
  {
   "cell_type": "code",
   "execution_count": 22,
   "id": "6fb2db58",
   "metadata": {},
   "outputs": [
    {
     "data": {
      "text/html": [
       "<div>\n",
       "<style scoped>\n",
       "    .dataframe tbody tr th:only-of-type {\n",
       "        vertical-align: middle;\n",
       "    }\n",
       "\n",
       "    .dataframe tbody tr th {\n",
       "        vertical-align: top;\n",
       "    }\n",
       "\n",
       "    .dataframe thead th {\n",
       "        text-align: right;\n",
       "    }\n",
       "</style>\n",
       "<table border=\"1\" class=\"dataframe\">\n",
       "  <thead>\n",
       "    <tr style=\"text-align: right;\">\n",
       "      <th></th>\n",
       "      <th>news</th>\n",
       "    </tr>\n",
       "  </thead>\n",
       "  <tbody>\n",
       "    <tr>\n",
       "      <th>0</th>\n",
       "      <td>bengaluru’s firstever kambala end grand note</td>\n",
       "    </tr>\n",
       "    <tr>\n",
       "      <th>1</th>\n",
       "      <td>fourlegged diva dazzle catwalk bengalurus pet ...</td>\n",
       "    </tr>\n",
       "    <tr>\n",
       "      <th>2</th>\n",
       "      <td>thousand turn celebrate lgbtqia community</td>\n",
       "    </tr>\n",
       "    <tr>\n",
       "      <th>3</th>\n",
       "      <td>thousand turn celebrate lgbtqia community</td>\n",
       "    </tr>\n",
       "    <tr>\n",
       "      <th>4</th>\n",
       "      <td>playing reallife character required completely...</td>\n",
       "    </tr>\n",
       "    <tr>\n",
       "      <th>...</th>\n",
       "      <td>...</td>\n",
       "    </tr>\n",
       "    <tr>\n",
       "      <th>495</th>\n",
       "      <td>innovative way capture big cat</td>\n",
       "    </tr>\n",
       "    <tr>\n",
       "      <th>496</th>\n",
       "      <td>man booked stabbing wife</td>\n",
       "    </tr>\n",
       "    <tr>\n",
       "      <th>497</th>\n",
       "      <td>police must touristfriendly dc</td>\n",
       "    </tr>\n",
       "    <tr>\n",
       "      <th>498</th>\n",
       "      <td>ramgarh school violence four minor surrender</td>\n",
       "    </tr>\n",
       "    <tr>\n",
       "      <th>499</th>\n",
       "      <td>humanjumbo conflict rise man two tusker found ...</td>\n",
       "    </tr>\n",
       "  </tbody>\n",
       "</table>\n",
       "<p>500 rows × 1 columns</p>\n",
       "</div>"
      ],
      "text/plain": [
       "                                                  news\n",
       "0         bengaluru’s firstever kambala end grand note\n",
       "1    fourlegged diva dazzle catwalk bengalurus pet ...\n",
       "2            thousand turn celebrate lgbtqia community\n",
       "3            thousand turn celebrate lgbtqia community\n",
       "4    playing reallife character required completely...\n",
       "..                                                 ...\n",
       "495                     innovative way capture big cat\n",
       "496                           man booked stabbing wife\n",
       "497                     police must touristfriendly dc\n",
       "498       ramgarh school violence four minor surrender\n",
       "499  humanjumbo conflict rise man two tusker found ...\n",
       "\n",
       "[500 rows x 1 columns]"
      ]
     },
     "execution_count": 22,
     "metadata": {},
     "output_type": "execute_result"
    }
   ],
   "source": [
    "#preprocessing\n",
    "\n",
    "todayDf['news1']=todayDf['News'].apply(lambda x: preprocess(x))\n",
    "\n",
    "\n",
    "#lemmatization\n",
    "\n",
    "todayDf['news']=todayDf['news1'].apply(lambda x: lemmatizeNews(x))\n",
    "todayDf=todayDf.drop('News',axis=1)\n",
    "todayDf=todayDf.drop('news1',axis=1)\n",
    "todayDf"
   ]
  },
  {
   "cell_type": "code",
   "execution_count": 23,
   "id": "e5e914ef",
   "metadata": {},
   "outputs": [],
   "source": [
    "#vectorization\n",
    "\n",
    "today=todayDf['news']\n",
    "today=tf_idf.transform(today)\n",
    "today=today.toarray()"
   ]
  },
  {
   "cell_type": "code",
   "execution_count": 24,
   "id": "1668f93b",
   "metadata": {},
   "outputs": [],
   "source": [
    "#todays prediction\n",
    "\n",
    "today_pred=lr.predict(today)"
   ]
  },
  {
   "cell_type": "code",
   "execution_count": 25,
   "id": "19488062",
   "metadata": {},
   "outputs": [
    {
     "name": "stdout",
     "output_type": "stream",
     "text": [
      "Negative News =  0\n",
      "Neutral News =  500\n",
      "Positive News =  0\n"
     ]
    }
   ],
   "source": [
    "negative=np.count_nonzero(today_pred == 0)\n",
    "neutral=np.count_nonzero(today_pred == 1)\n",
    "positive=np.count_nonzero(today_pred == 2)\n",
    "\n",
    "print(\"Negative News = \",negative)\n",
    "print(\"Neutral News = \",neutral)\n",
    "print(\"Positive News = \",positive)"
   ]
  }
 ],
 "metadata": {
  "kernelspec": {
   "display_name": "Python 3 (ipykernel)",
   "language": "python",
   "name": "python3"
  },
  "language_info": {
   "codemirror_mode": {
    "name": "ipython",
    "version": 3
   },
   "file_extension": ".py",
   "mimetype": "text/x-python",
   "name": "python",
   "nbconvert_exporter": "python",
   "pygments_lexer": "ipython3",
   "version": "3.11.5"
  }
 },
 "nbformat": 4,
 "nbformat_minor": 5
}
