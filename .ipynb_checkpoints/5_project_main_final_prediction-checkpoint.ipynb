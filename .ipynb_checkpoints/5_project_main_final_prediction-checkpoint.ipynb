{
 "cells": [
  {
   "cell_type": "code",
   "execution_count": 1,
   "id": "729de728",
   "metadata": {},
   "outputs": [],
   "source": [
    "import pandas as pd\n",
    "import numpy as np\n",
    "import matplotlib.pyplot as plt"
   ]
  },
  {
   "cell_type": "code",
   "execution_count": 2,
   "id": "0b2013fa",
   "metadata": {},
   "outputs": [
    {
     "name": "stdout",
     "output_type": "stream",
     "text": [
      "WARNING:tensorflow:From C:\\Users\\Acer\\anaconda3\\Lib\\site-packages\\keras\\src\\losses.py:2976: The name tf.losses.sparse_softmax_cross_entropy is deprecated. Please use tf.compat.v1.losses.sparse_softmax_cross_entropy instead.\n",
      "\n",
      "WARNING:tensorflow:From C:\\Users\\Acer\\anaconda3\\Lib\\site-packages\\keras\\src\\backend.py:1398: The name tf.executing_eagerly_outside_functions is deprecated. Please use tf.compat.v1.executing_eagerly_outside_functions instead.\n",
      "\n",
      "WARNING:tensorflow:From C:\\Users\\Acer\\anaconda3\\Lib\\site-packages\\keras\\src\\optimizers\\__init__.py:309: The name tf.train.Optimizer is deprecated. Please use tf.compat.v1.train.Optimizer instead.\n",
      "\n"
     ]
    }
   ],
   "source": [
    "from tensorflow import keras\n",
    "\n",
    "lstm = keras.models.load_model(\"lstm_saved_model_final.keras\")"
   ]
  },
  {
   "cell_type": "code",
   "execution_count": 3,
   "id": "abdc2fcc",
   "metadata": {},
   "outputs": [
    {
     "data": {
      "text/html": [
       "<div>\n",
       "<style scoped>\n",
       "    .dataframe tbody tr th:only-of-type {\n",
       "        vertical-align: middle;\n",
       "    }\n",
       "\n",
       "    .dataframe tbody tr th {\n",
       "        vertical-align: top;\n",
       "    }\n",
       "\n",
       "    .dataframe thead th {\n",
       "        text-align: right;\n",
       "    }\n",
       "</style>\n",
       "<table border=\"1\" class=\"dataframe\">\n",
       "  <thead>\n",
       "    <tr style=\"text-align: right;\">\n",
       "      <th></th>\n",
       "      <th>Date</th>\n",
       "      <th>Close</th>\n",
       "      <th>output</th>\n",
       "    </tr>\n",
       "  </thead>\n",
       "  <tbody>\n",
       "    <tr>\n",
       "      <th>0</th>\n",
       "      <td>2020-01-01</td>\n",
       "      <td>184.449997</td>\n",
       "      <td>1</td>\n",
       "    </tr>\n",
       "    <tr>\n",
       "      <th>1</th>\n",
       "      <td>2020-01-02</td>\n",
       "      <td>193.750000</td>\n",
       "      <td>2</td>\n",
       "    </tr>\n",
       "    <tr>\n",
       "      <th>2</th>\n",
       "      <td>2020-01-03</td>\n",
       "      <td>191.100006</td>\n",
       "      <td>2</td>\n",
       "    </tr>\n",
       "    <tr>\n",
       "      <th>3</th>\n",
       "      <td>2020-01-06</td>\n",
       "      <td>185.649994</td>\n",
       "      <td>1</td>\n",
       "    </tr>\n",
       "    <tr>\n",
       "      <th>4</th>\n",
       "      <td>2020-01-07</td>\n",
       "      <td>184.699997</td>\n",
       "      <td>0</td>\n",
       "    </tr>\n",
       "    <tr>\n",
       "      <th>...</th>\n",
       "      <td>...</td>\n",
       "      <td>...</td>\n",
       "      <td>...</td>\n",
       "    </tr>\n",
       "    <tr>\n",
       "      <th>927</th>\n",
       "      <td>2023-09-25</td>\n",
       "      <td>618.700012</td>\n",
       "      <td>1</td>\n",
       "    </tr>\n",
       "    <tr>\n",
       "      <th>928</th>\n",
       "      <td>2023-09-26</td>\n",
       "      <td>619.799988</td>\n",
       "      <td>1</td>\n",
       "    </tr>\n",
       "    <tr>\n",
       "      <th>929</th>\n",
       "      <td>2023-09-27</td>\n",
       "      <td>620.150024</td>\n",
       "      <td>1</td>\n",
       "    </tr>\n",
       "    <tr>\n",
       "      <th>930</th>\n",
       "      <td>2023-09-28</td>\n",
       "      <td>614.099976</td>\n",
       "      <td>1</td>\n",
       "    </tr>\n",
       "    <tr>\n",
       "      <th>931</th>\n",
       "      <td>2023-09-29</td>\n",
       "      <td>630.200012</td>\n",
       "      <td>0</td>\n",
       "    </tr>\n",
       "  </tbody>\n",
       "</table>\n",
       "<p>932 rows × 3 columns</p>\n",
       "</div>"
      ],
      "text/plain": [
       "           Date       Close  output\n",
       "0    2020-01-01  184.449997       1\n",
       "1    2020-01-02  193.750000       2\n",
       "2    2020-01-03  191.100006       2\n",
       "3    2020-01-06  185.649994       1\n",
       "4    2020-01-07  184.699997       0\n",
       "..          ...         ...     ...\n",
       "927  2023-09-25  618.700012       1\n",
       "928  2023-09-26  619.799988       1\n",
       "929  2023-09-27  620.150024       1\n",
       "930  2023-09-28  614.099976       1\n",
       "931  2023-09-29  630.200012       0\n",
       "\n",
       "[932 rows x 3 columns]"
      ]
     },
     "execution_count": 3,
     "metadata": {},
     "output_type": "execute_result"
    }
   ],
   "source": [
    "data_main=pd.read_csv('mergedData.csv',index_col=[0])\n",
    "data_main"
   ]
  },
  {
   "cell_type": "code",
   "execution_count": 4,
   "id": "0898109c",
   "metadata": {},
   "outputs": [],
   "source": [
    "data=data_main.drop(\"Date\",axis=1)"
   ]
  },
  {
   "cell_type": "code",
   "execution_count": 5,
   "id": "a7eebe85",
   "metadata": {},
   "outputs": [],
   "source": [
    "from sklearn.preprocessing import MinMaxScaler\n",
    "scale_1=MinMaxScaler(feature_range=(0,1))"
   ]
  },
  {
   "cell_type": "code",
   "execution_count": 6,
   "id": "1c878fd8",
   "metadata": {},
   "outputs": [],
   "source": [
    "data=scale_1.fit_transform(data)"
   ]
  },
  {
   "cell_type": "code",
   "execution_count": 7,
   "id": "f04b3a2d",
   "metadata": {},
   "outputs": [
    {
     "data": {
      "text/plain": [
       "[0.9826425076721536,\n",
       " 1.0,\n",
       " 0.9936960907165867,\n",
       " 1.0,\n",
       " 0.9899827496617964,\n",
       " 0.5,\n",
       " 0.9702072531008613,\n",
       " 0.0,\n",
       " 0.9588083312357988,\n",
       " 0.5,\n",
       " 0.9557858786518282,\n",
       " 0.5,\n",
       " 0.9576856638244119,\n",
       " 0.5,\n",
       " 0.9582902175900742,\n",
       " 0.5,\n",
       " 0.947841082896523,\n",
       " 0.5,\n",
       " 0.9756477099179205]"
      ]
     },
     "execution_count": 7,
     "metadata": {},
     "output_type": "execute_result"
    }
   ],
   "source": [
    "n=10\n",
    "length=data.shape[0]\n",
    "\n",
    "li=[]\n",
    "for i in range(0,n):\n",
    "    li.append(data[length-n+i][0])\n",
    "    li.append(data[length-n+i][1])\n",
    "\n",
    "li.pop()\n",
    "li"
   ]
  },
  {
   "cell_type": "code",
   "execution_count": 8,
   "id": "78e4e876",
   "metadata": {},
   "outputs": [
    {
     "data": {
      "text/html": [
       "<div>\n",
       "<style scoped>\n",
       "    .dataframe tbody tr th:only-of-type {\n",
       "        vertical-align: middle;\n",
       "    }\n",
       "\n",
       "    .dataframe tbody tr th {\n",
       "        vertical-align: top;\n",
       "    }\n",
       "\n",
       "    .dataframe thead th {\n",
       "        text-align: right;\n",
       "    }\n",
       "</style>\n",
       "<table border=\"1\" class=\"dataframe\">\n",
       "  <thead>\n",
       "    <tr style=\"text-align: right;\">\n",
       "      <th></th>\n",
       "      <th>output</th>\n",
       "    </tr>\n",
       "  </thead>\n",
       "  <tbody>\n",
       "    <tr>\n",
       "      <th>0</th>\n",
       "      <td>2</td>\n",
       "    </tr>\n",
       "    <tr>\n",
       "      <th>1</th>\n",
       "      <td>1</td>\n",
       "    </tr>\n",
       "    <tr>\n",
       "      <th>2</th>\n",
       "      <td>2</td>\n",
       "    </tr>\n",
       "    <tr>\n",
       "      <th>3</th>\n",
       "      <td>0</td>\n",
       "    </tr>\n",
       "    <tr>\n",
       "      <th>4</th>\n",
       "      <td>0</td>\n",
       "    </tr>\n",
       "  </tbody>\n",
       "</table>\n",
       "</div>"
      ],
      "text/plain": [
       "   output\n",
       "0       2\n",
       "1       1\n",
       "2       2\n",
       "3       0\n",
       "4       0"
      ]
     },
     "execution_count": 8,
     "metadata": {},
     "output_type": "execute_result"
    }
   ],
   "source": [
    "sentiments=pd.read_csv('sentiments.csv')\n",
    "sentiments"
   ]
  },
  {
   "cell_type": "code",
   "execution_count": 9,
   "id": "dab322bc",
   "metadata": {},
   "outputs": [
    {
     "data": {
      "text/plain": [
       "array([[1. ],\n",
       "       [0.5],\n",
       "       [1. ],\n",
       "       [0. ],\n",
       "       [0. ]])"
      ]
     },
     "execution_count": 9,
     "metadata": {},
     "output_type": "execute_result"
    }
   ],
   "source": [
    "scale_2=MinMaxScaler(feature_range=(0,1))\n",
    "sentiments=scale_2.fit_transform(sentiments)\n",
    "sentiments"
   ]
  },
  {
   "cell_type": "code",
   "execution_count": 10,
   "id": "2789848c",
   "metadata": {},
   "outputs": [
    {
     "data": {
      "text/plain": [
       "[0.9826425076721536,\n",
       " 1.0,\n",
       " 0.9936960907165867,\n",
       " 1.0,\n",
       " 0.9899827496617964,\n",
       " 0.5,\n",
       " 0.9702072531008613,\n",
       " 0.0,\n",
       " 0.9588083312357988,\n",
       " 0.5,\n",
       " 0.9557858786518282,\n",
       " 0.5,\n",
       " 0.9576856638244119,\n",
       " 0.5,\n",
       " 0.9582902175900742,\n",
       " 0.5,\n",
       " 0.947841082896523,\n",
       " 0.5,\n",
       " 0.9756477099179205,\n",
       " 1.0]"
      ]
     },
     "execution_count": 10,
     "metadata": {},
     "output_type": "execute_result"
    }
   ],
   "source": [
    "j=0\n",
    "li.append(sentiments[j][0])\n",
    "j+=1\n",
    "li"
   ]
  },
  {
   "cell_type": "code",
   "execution_count": 11,
   "id": "8f7a97ec",
   "metadata": {},
   "outputs": [
    {
     "name": "stdout",
     "output_type": "stream",
     "text": [
      "1/1 [==============================] - 1s 573ms/step\n",
      "1/1 [==============================] - 0s 30ms/step\n",
      "1/1 [==============================] - 0s 28ms/step\n",
      "1/1 [==============================] - 0s 31ms/step\n",
      "1/1 [==============================] - 0s 27ms/step\n",
      "[0.8854222, 0.88121575, 0.8747563, 0.86418456, 0.8868356]\n"
     ]
    }
   ],
   "source": [
    "days=5\n",
    "pred_values=[]\n",
    "for i in range(days):\n",
    "    newInput=np.array(li)\n",
    "    newInput=np.reshape(newInput,(1,20))\n",
    "    pred=lstm.predict(newInput)\n",
    "    pred_values.append(pred[0][0])\n",
    "    \n",
    "    if i==4:\n",
    "        break\n",
    "        \n",
    "    li.pop(0)\n",
    "    li.pop(0)\n",
    "    li.append(pred[0][0])\n",
    "    li.append(sentiments[j][0])\n",
    "    j+=1\n",
    "    \n",
    "print(pred_values)"
   ]
  },
  {
   "cell_type": "code",
   "execution_count": 12,
   "id": "e86148c5",
   "metadata": {},
   "outputs": [],
   "source": [
    "dummy=data_main['Close']\n",
    "dummy=pd.DataFrame(dummy)\n",
    "scaler=MinMaxScaler(feature_range=(0,1))\n",
    "dummy=scaler.fit_transform(dummy)"
   ]
  },
  {
   "cell_type": "code",
   "execution_count": 13,
   "id": "571ff6bf",
   "metadata": {},
   "outputs": [],
   "source": [
    "pred_values=pd.DataFrame(pred_values)\n",
    "pred_values=scaler.inverse_transform(pred_values)"
   ]
  },
  {
   "cell_type": "code",
   "execution_count": 16,
   "id": "71fe0ee6",
   "metadata": {},
   "outputs": [
    {
     "data": {
      "text/plain": [
       "array([[577.9595 ],\n",
       "       [575.5239 ],\n",
       "       [571.7839 ],\n",
       "       [565.66284],\n",
       "       [578.77783]], dtype=float32)"
      ]
     },
     "execution_count": 16,
     "metadata": {},
     "output_type": "execute_result"
    }
   ],
   "source": [
    "pred_values"
   ]
  },
  {
   "cell_type": "code",
   "execution_count": 17,
   "id": "668169b1",
   "metadata": {},
   "outputs": [],
   "source": [
    "original=np.array(data_main['Close'][900:])\n",
    "final_pred=np.append(original,pred_values)"
   ]
  },
  {
   "cell_type": "code",
   "execution_count": 19,
   "id": "7ece0afa",
   "metadata": {},
   "outputs": [
    {
     "data": {
      "text/plain": [
       "<matplotlib.legend.Legend at 0x2ae78a59950>"
      ]
     },
     "execution_count": 19,
     "metadata": {},
     "output_type": "execute_result"
    },
    {
     "data": {
      "image/png": "[encoded data removed]",
      "text/plain": [
       "<Figure size 1200x500 with 1 Axes>"
      ]
     },
     "metadata": {},
     "output_type": "display_data"
    }
   ],
   "source": [
    "plt.figure(figsize=(12,5))\n",
    "plt.plot(final_pred,'y' ,label='Next 5 days')\n",
    "plt.plot(original,'r' ,label='Original price')\n",
    "plt.xlabel('Time')\n",
    "plt.ylabel('Price')\n",
    "plt.legend()"
   ]
  },
  {
   "cell_type": "code",
   "execution_count": null,
   "id": "2eeedb32",
   "metadata": {},
   "outputs": [],
   "source": []
  }
 ],
 "metadata": {
  "kernelspec": {
   "display_name": "Python 3 (ipykernel)",
   "language": "python",
   "name": "python3"
  },
  "language_info": {
   "codemirror_mode": {
    "name": "ipython",
    "version": 3
   },
   "file_extension": ".py",
   "mimetype": "text/x-python",
   "name": "python",
   "nbconvert_exporter": "python",
   "pygments_lexer": "ipython3",
   "version": "3.11.5"
  }
 },
 "nbformat": 4,
 "nbformat_minor": 5
}
