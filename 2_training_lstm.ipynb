{
 "cells": [
  {
   "cell_type": "markdown",
   "id": "20b842c0",
   "metadata": {},
   "source": [
    "# Training the model using LSTM"
   ]
  },
  {
   "cell_type": "code",
   "execution_count": 9,
   "id": "43e5737f",
   "metadata": {},
   "outputs": [],
   "source": [
    "import pandas as pd"
   ]
  },
  {
   "cell_type": "code",
   "execution_count": 10,
   "id": "167d887b",
   "metadata": {},
   "outputs": [],
   "source": [
    "data=pd.read_csv(\"stock_data.csv\")"
   ]
  },
  {
   "cell_type": "code",
   "execution_count": 11,
   "id": "615be83d",
   "metadata": {},
   "outputs": [
    {
     "data": {
      "text/html": [
       "<div>\n",
       "<style scoped>\n",
       "    .dataframe tbody tr th:only-of-type {\n",
       "        vertical-align: middle;\n",
       "    }\n",
       "\n",
       "    .dataframe tbody tr th {\n",
       "        vertical-align: top;\n",
       "    }\n",
       "\n",
       "    .dataframe thead th {\n",
       "        text-align: right;\n",
       "    }\n",
       "</style>\n",
       "<table border=\"1\" class=\"dataframe\">\n",
       "  <thead>\n",
       "    <tr style=\"text-align: right;\">\n",
       "      <th></th>\n",
       "      <th>Date</th>\n",
       "      <th>Open</th>\n",
       "      <th>High</th>\n",
       "      <th>Low</th>\n",
       "      <th>Close</th>\n",
       "      <th>Adj Close</th>\n",
       "      <th>Volume</th>\n",
       "    </tr>\n",
       "  </thead>\n",
       "  <tbody>\n",
       "    <tr>\n",
       "      <th>0</th>\n",
       "      <td>2020-01-01</td>\n",
       "      <td>185.149994</td>\n",
       "      <td>186.699997</td>\n",
       "      <td>183.600006</td>\n",
       "      <td>184.449997</td>\n",
       "      <td>183.876907</td>\n",
       "      <td>25968357</td>\n",
       "    </tr>\n",
       "    <tr>\n",
       "      <th>1</th>\n",
       "      <td>2020-01-02</td>\n",
       "      <td>185.000000</td>\n",
       "      <td>194.699997</td>\n",
       "      <td>184.600006</td>\n",
       "      <td>193.750000</td>\n",
       "      <td>193.148010</td>\n",
       "      <td>57289863</td>\n",
       "    </tr>\n",
       "    <tr>\n",
       "      <th>2</th>\n",
       "      <td>2020-01-03</td>\n",
       "      <td>192.899994</td>\n",
       "      <td>195.649994</td>\n",
       "      <td>189.250000</td>\n",
       "      <td>191.100006</td>\n",
       "      <td>190.506256</td>\n",
       "      <td>47572728</td>\n",
       "    </tr>\n",
       "    <tr>\n",
       "      <th>3</th>\n",
       "      <td>2020-01-06</td>\n",
       "      <td>191.000000</td>\n",
       "      <td>191.000000</td>\n",
       "      <td>185.050003</td>\n",
       "      <td>185.649994</td>\n",
       "      <td>185.073181</td>\n",
       "      <td>28621212</td>\n",
       "    </tr>\n",
       "    <tr>\n",
       "      <th>4</th>\n",
       "      <td>2020-01-07</td>\n",
       "      <td>187.000000</td>\n",
       "      <td>189.399994</td>\n",
       "      <td>182.300003</td>\n",
       "      <td>184.699997</td>\n",
       "      <td>184.126129</td>\n",
       "      <td>34995035</td>\n",
       "    </tr>\n",
       "    <tr>\n",
       "      <th>...</th>\n",
       "      <td>...</td>\n",
       "      <td>...</td>\n",
       "      <td>...</td>\n",
       "      <td>...</td>\n",
       "      <td>...</td>\n",
       "      <td>...</td>\n",
       "      <td>...</td>\n",
       "    </tr>\n",
       "    <tr>\n",
       "      <th>927</th>\n",
       "      <td>2023-09-25</td>\n",
       "      <td>623.849976</td>\n",
       "      <td>625.200012</td>\n",
       "      <td>617.900024</td>\n",
       "      <td>618.700012</td>\n",
       "      <td>618.700012</td>\n",
       "      <td>6390681</td>\n",
       "    </tr>\n",
       "    <tr>\n",
       "      <th>928</th>\n",
       "      <td>2023-09-26</td>\n",
       "      <td>618.700012</td>\n",
       "      <td>625.700012</td>\n",
       "      <td>617.950012</td>\n",
       "      <td>619.799988</td>\n",
       "      <td>619.799988</td>\n",
       "      <td>6271108</td>\n",
       "    </tr>\n",
       "    <tr>\n",
       "      <th>929</th>\n",
       "      <td>2023-09-27</td>\n",
       "      <td>619.950012</td>\n",
       "      <td>621.900024</td>\n",
       "      <td>616.750000</td>\n",
       "      <td>620.150024</td>\n",
       "      <td>620.150024</td>\n",
       "      <td>5960490</td>\n",
       "    </tr>\n",
       "    <tr>\n",
       "      <th>930</th>\n",
       "      <td>2023-09-28</td>\n",
       "      <td>622.900024</td>\n",
       "      <td>623.799988</td>\n",
       "      <td>612.250000</td>\n",
       "      <td>614.099976</td>\n",
       "      <td>614.099976</td>\n",
       "      <td>6768196</td>\n",
       "    </tr>\n",
       "    <tr>\n",
       "      <th>931</th>\n",
       "      <td>2023-09-29</td>\n",
       "      <td>618.700012</td>\n",
       "      <td>633.000000</td>\n",
       "      <td>617.000000</td>\n",
       "      <td>630.200012</td>\n",
       "      <td>630.200012</td>\n",
       "      <td>8969405</td>\n",
       "    </tr>\n",
       "  </tbody>\n",
       "</table>\n",
       "<p>932 rows × 7 columns</p>\n",
       "</div>"
      ],
      "text/plain": [
       "           Date        Open        High         Low       Close   Adj Close  \\\n",
       "0    2020-01-01  185.149994  186.699997  183.600006  184.449997  183.876907   \n",
       "1    2020-01-02  185.000000  194.699997  184.600006  193.750000  193.148010   \n",
       "2    2020-01-03  192.899994  195.649994  189.250000  191.100006  190.506256   \n",
       "3    2020-01-06  191.000000  191.000000  185.050003  185.649994  185.073181   \n",
       "4    2020-01-07  187.000000  189.399994  182.300003  184.699997  184.126129   \n",
       "..          ...         ...         ...         ...         ...         ...   \n",
       "927  2023-09-25  623.849976  625.200012  617.900024  618.700012  618.700012   \n",
       "928  2023-09-26  618.700012  625.700012  617.950012  619.799988  619.799988   \n",
       "929  2023-09-27  619.950012  621.900024  616.750000  620.150024  620.150024   \n",
       "930  2023-09-28  622.900024  623.799988  612.250000  614.099976  614.099976   \n",
       "931  2023-09-29  618.700012  633.000000  617.000000  630.200012  630.200012   \n",
       "\n",
       "       Volume  \n",
       "0    25968357  \n",
       "1    57289863  \n",
       "2    47572728  \n",
       "3    28621212  \n",
       "4    34995035  \n",
       "..        ...  \n",
       "927   6390681  \n",
       "928   6271108  \n",
       "929   5960490  \n",
       "930   6768196  \n",
       "931   8969405  \n",
       "\n",
       "[932 rows x 7 columns]"
      ]
     },
     "execution_count": 11,
     "metadata": {},
     "output_type": "execute_result"
    }
   ],
   "source": [
    "data"
   ]
  },
  {
   "cell_type": "code",
   "execution_count": 12,
   "id": "b77b04c4",
   "metadata": {},
   "outputs": [
    {
     "data": {
      "text/plain": [
       "[<matplotlib.lines.Line2D at 0x239b3ec4d70>]"
      ]
     },
     "execution_count": 12,
     "metadata": {},
     "output_type": "execute_result"
    },
    {
     "data": {
      "image/png": "[encoded data removed]",
      "text/plain": [
       "<Figure size 800x400 with 1 Axes>"
      ]
     },
     "metadata": {},
     "output_type": "display_data"
    }
   ],
   "source": [
    "import matplotlib.pyplot as plt\n",
    "plt.figure(figsize=(8,4))\n",
    "plt.plot(data['Close'])"
   ]
  },
  {
   "cell_type": "code",
   "execution_count": 13,
   "id": "704044b1",
   "metadata": {},
   "outputs": [
    {
     "data": {
      "text/html": [
       "<div>\n",
       "<style scoped>\n",
       "    .dataframe tbody tr th:only-of-type {\n",
       "        vertical-align: middle;\n",
       "    }\n",
       "\n",
       "    .dataframe tbody tr th {\n",
       "        vertical-align: top;\n",
       "    }\n",
       "\n",
       "    .dataframe thead th {\n",
       "        text-align: right;\n",
       "    }\n",
       "</style>\n",
       "<table border=\"1\" class=\"dataframe\">\n",
       "  <thead>\n",
       "    <tr style=\"text-align: right;\">\n",
       "      <th></th>\n",
       "      <th>index</th>\n",
       "      <th>Date</th>\n",
       "      <th>Open</th>\n",
       "      <th>High</th>\n",
       "      <th>Low</th>\n",
       "      <th>Close</th>\n",
       "      <th>Adj Close</th>\n",
       "      <th>Volume</th>\n",
       "    </tr>\n",
       "  </thead>\n",
       "  <tbody>\n",
       "    <tr>\n",
       "      <th>0</th>\n",
       "      <td>0</td>\n",
       "      <td>2020-01-01</td>\n",
       "      <td>185.149994</td>\n",
       "      <td>186.699997</td>\n",
       "      <td>183.600006</td>\n",
       "      <td>184.449997</td>\n",
       "      <td>183.876907</td>\n",
       "      <td>25968357</td>\n",
       "    </tr>\n",
       "    <tr>\n",
       "      <th>1</th>\n",
       "      <td>1</td>\n",
       "      <td>2020-01-02</td>\n",
       "      <td>185.000000</td>\n",
       "      <td>194.699997</td>\n",
       "      <td>184.600006</td>\n",
       "      <td>193.750000</td>\n",
       "      <td>193.148010</td>\n",
       "      <td>57289863</td>\n",
       "    </tr>\n",
       "    <tr>\n",
       "      <th>2</th>\n",
       "      <td>2</td>\n",
       "      <td>2020-01-03</td>\n",
       "      <td>192.899994</td>\n",
       "      <td>195.649994</td>\n",
       "      <td>189.250000</td>\n",
       "      <td>191.100006</td>\n",
       "      <td>190.506256</td>\n",
       "      <td>47572728</td>\n",
       "    </tr>\n",
       "    <tr>\n",
       "      <th>3</th>\n",
       "      <td>3</td>\n",
       "      <td>2020-01-06</td>\n",
       "      <td>191.000000</td>\n",
       "      <td>191.000000</td>\n",
       "      <td>185.050003</td>\n",
       "      <td>185.649994</td>\n",
       "      <td>185.073181</td>\n",
       "      <td>28621212</td>\n",
       "    </tr>\n",
       "    <tr>\n",
       "      <th>4</th>\n",
       "      <td>4</td>\n",
       "      <td>2020-01-07</td>\n",
       "      <td>187.000000</td>\n",
       "      <td>189.399994</td>\n",
       "      <td>182.300003</td>\n",
       "      <td>184.699997</td>\n",
       "      <td>184.126129</td>\n",
       "      <td>34995035</td>\n",
       "    </tr>\n",
       "  </tbody>\n",
       "</table>\n",
       "</div>"
      ],
      "text/plain": [
       "   index        Date        Open        High         Low       Close  \\\n",
       "0      0  2020-01-01  185.149994  186.699997  183.600006  184.449997   \n",
       "1      1  2020-01-02  185.000000  194.699997  184.600006  193.750000   \n",
       "2      2  2020-01-03  192.899994  195.649994  189.250000  191.100006   \n",
       "3      3  2020-01-06  191.000000  191.000000  185.050003  185.649994   \n",
       "4      4  2020-01-07  187.000000  189.399994  182.300003  184.699997   \n",
       "\n",
       "    Adj Close    Volume  \n",
       "0  183.876907  25968357  \n",
       "1  193.148010  57289863  \n",
       "2  190.506256  47572728  \n",
       "3  185.073181  28621212  \n",
       "4  184.126129  34995035  "
      ]
     },
     "execution_count": 13,
     "metadata": {},
     "output_type": "execute_result"
    }
   ],
   "source": [
    "data=data.reset_index()\n",
    "data.head()"
   ]
  },
  {
   "cell_type": "code",
   "execution_count": 14,
   "id": "06c87842",
   "metadata": {},
   "outputs": [],
   "source": [
    "ma100= data['Close'].rolling(100).mean() #moving average of 100 size\n",
    "ma200= data['Close'].rolling(200).mean() #moving average of 200 size\n",
    "# ma100,ma200"
   ]
  },
  {
   "cell_type": "code",
   "execution_count": 15,
   "id": "b70361c3",
   "metadata": {},
   "outputs": [
    {
     "data": {
      "text/plain": [
       "[<matplotlib.lines.Line2D at 0x239b447f080>]"
      ]
     },
     "execution_count": 15,
     "metadata": {},
     "output_type": "execute_result"
    },
    {
     "data": {
      "image/png": "[encoded data removed]",
      "text/plain": [
       "<Figure size 1200x500 with 1 Axes>"
      ]
     },
     "metadata": {},
     "output_type": "display_data"
    }
   ],
   "source": [
    "plt.figure(figsize=(12,5))\n",
    "plt.plot(data['Close'],'y')\n",
    "plt.plot(ma100,'b')\n",
    "plt.plot(ma200,'r')"
   ]
  },
  {
   "cell_type": "code",
   "execution_count": 16,
   "id": "c34ab2c3",
   "metadata": {},
   "outputs": [
    {
     "data": {
      "text/plain": [
       "932"
      ]
     },
     "execution_count": 16,
     "metadata": {},
     "output_type": "execute_result"
    }
   ],
   "source": [
    "total_size=len(data)\n",
    "total_size"
   ]
  },
  {
   "cell_type": "code",
   "execution_count": 17,
   "id": "53561188",
   "metadata": {},
   "outputs": [],
   "source": [
    "train_size=int(total_size*0.8)\n",
    "test_size=total_size-train_size"
   ]
  },
  {
   "cell_type": "code",
   "execution_count": 18,
   "id": "0515c0be",
   "metadata": {},
   "outputs": [],
   "source": [
    "import numpy as np"
   ]
  },
  {
   "cell_type": "code",
   "execution_count": 19,
   "id": "40731b8e",
   "metadata": {},
   "outputs": [],
   "source": [
    "#splitting into train test\n",
    "data_training=pd.DataFrame(data['Close'][0:train_size])\n",
    "data_training.to_csv(\"data_training\" , index=False)\n",
    "data_testing=pd.DataFrame(data['Close'][train_size:total_size])\n",
    "data_testing.to_csv(\"data_testing\" , index=False)"
   ]
  },
  {
   "cell_type": "code",
   "execution_count": 20,
   "id": "cf88cb75",
   "metadata": {
    "scrolled": true
   },
   "outputs": [
    {
     "data": {
      "text/plain": [
       "((745, 1), (187, 1))"
      ]
     },
     "execution_count": 20,
     "metadata": {},
     "output_type": "execute_result"
    }
   ],
   "source": [
    "data_training.shape,data_testing.shape"
   ]
  },
  {
   "cell_type": "code",
   "execution_count": 13,
   "id": "f9fc81a8",
   "metadata": {},
   "outputs": [],
   "source": [
    "#data scaling\n",
    "from sklearn.preprocessing import MinMaxScaler\n",
    "scale=MinMaxScaler(feature_range=(0,1))"
   ]
  },
  {
   "cell_type": "code",
   "execution_count": 14,
   "id": "f73e73bf",
   "metadata": {},
   "outputs": [],
   "source": [
    "train_data=scale.fit_transform(data_training)"
   ]
  },
  {
   "cell_type": "code",
   "execution_count": 15,
   "id": "0984bc08",
   "metadata": {},
   "outputs": [
    {
     "data": {
      "text/plain": [
       "array([[0.0499456 ],\n",
       "       [0.04656877],\n",
       "       [0.05053069],\n",
       "       ...,\n",
       "       [0.16911067],\n",
       "       [0.19083228],\n",
       "       [0.17966614]])"
      ]
     },
     "execution_count": 15,
     "metadata": {},
     "output_type": "execute_result"
    }
   ],
   "source": [
    "train_data"
   ]
  },
  {
   "cell_type": "code",
   "execution_count": 16,
   "id": "4d6a740e",
   "metadata": {},
   "outputs": [
    {
     "data": {
      "text/plain": [
       "(3964, 1)"
      ]
     },
     "execution_count": 16,
     "metadata": {},
     "output_type": "execute_result"
    }
   ],
   "source": [
    "train_data.shape"
   ]
  },
  {
   "cell_type": "code",
   "execution_count": 17,
   "id": "cfbf63b7",
   "metadata": {},
   "outputs": [],
   "source": [
    "#defining features (100)\n",
    "x_train=[]\n",
    "y_train=[]"
   ]
  },
  {
   "cell_type": "code",
   "execution_count": 18,
   "id": "3c72b120",
   "metadata": {},
   "outputs": [],
   "source": [
    "for i in range(100,train_data.shape[0]):\n",
    "    x_train.append(train_data[i-100:i])\n",
    "    y_train.append(train_data[i,0])\n",
    "    \n",
    "x_train=np.array(x_train)\n",
    "y_train=np.array(y_train)"
   ]
  },
  {
   "cell_type": "code",
   "execution_count": 19,
   "id": "8e1a477f",
   "metadata": {},
   "outputs": [
    {
     "data": {
      "text/plain": [
       "((3864, 100, 1), (3864,))"
      ]
     },
     "execution_count": 19,
     "metadata": {},
     "output_type": "execute_result"
    }
   ],
   "source": [
    "x_train.shape , y_train.shape"
   ]
  },
  {
   "cell_type": "code",
   "execution_count": 20,
   "id": "1c869cf0",
   "metadata": {},
   "outputs": [],
   "source": [
    "# x_train=x_train.reshape(x_train.shape[0],x_train.shape[1])"
   ]
  },
  {
   "cell_type": "code",
   "execution_count": 21,
   "id": "38fa2e52",
   "metadata": {},
   "outputs": [],
   "source": [
    "# x_train.shape"
   ]
  },
  {
   "cell_type": "code",
   "execution_count": 22,
   "id": "67312d10",
   "metadata": {},
   "outputs": [],
   "source": [
    "from keras.layers import Dense,Dropout,LSTM\n",
    "from keras.models import Sequential"
   ]
  },
  {
   "cell_type": "code",
   "execution_count": 23,
   "id": "4f0697f5",
   "metadata": {},
   "outputs": [],
   "source": [
    "model=Sequential()\n",
    "#layer_1\n",
    "model.add(LSTM(units=50,activation='relu',return_sequences=True,input_shape=(x_train.shape[1],1)))\n",
    "model.add(Dropout(0.2))\n",
    "\n",
    "#layer_2\n",
    "model.add(LSTM(units=60,activation='relu',return_sequences=True))\n",
    "model.add(Dropout(0.3))\n",
    "\n",
    "#layer_3\n",
    "model.add(LSTM(units=80,activation='relu',return_sequences=True))\n",
    "model.add(Dropout(0.4))\n",
    "\n",
    "#layer_4\n",
    "model.add(LSTM(units=100,activation='relu'))\n",
    "model.add(Dropout(0.5))\n",
    "\n",
    "# #layer_5\n",
    "# model.add(LSTM(units=120,activation='relu'))\n",
    "# model.add(Dropout(0.6))\n",
    "          \n",
    "#last layer\n",
    "model.add(Dense(units=1))"
   ]
  },
  {
   "cell_type": "code",
   "execution_count": 24,
   "id": "8e24e584",
   "metadata": {},
   "outputs": [
    {
     "name": "stdout",
     "output_type": "stream",
     "text": [
      "Model: \"sequential\"\n",
      "_________________________________________________________________\n",
      " Layer (type)                Output Shape              Param #   \n",
      "=================================================================\n",
      " lstm (LSTM)                 (None, 100, 50)           10400     \n",
      "                                                                 \n",
      " dropout (Dropout)           (None, 100, 50)           0         \n",
      "                                                                 \n",
      " lstm_1 (LSTM)               (None, 100, 60)           26640     \n",
      "                                                                 \n",
      " dropout_1 (Dropout)         (None, 100, 60)           0         \n",
      "                                                                 \n",
      " lstm_2 (LSTM)               (None, 100, 80)           45120     \n",
      "                                                                 \n",
      " dropout_2 (Dropout)         (None, 100, 80)           0         \n",
      "                                                                 \n",
      " lstm_3 (LSTM)               (None, 100)               72400     \n",
      "                                                                 \n",
      " dropout_3 (Dropout)         (None, 100)               0         \n",
      "                                                                 \n",
      " dense (Dense)               (None, 1)                 101       \n",
      "                                                                 \n",
      "=================================================================\n",
      "Total params: 154661 (604.14 KB)\n",
      "Trainable params: 154661 (604.14 KB)\n",
      "Non-trainable params: 0 (0.00 Byte)\n",
      "_________________________________________________________________\n"
     ]
    }
   ],
   "source": [
    "model.summary()"
   ]
  },
  {
   "cell_type": "code",
   "execution_count": 25,
   "id": "c3137ade",
   "metadata": {
    "scrolled": true
   },
   "outputs": [
    {
     "name": "stdout",
     "output_type": "stream",
     "text": [
      "Epoch 1/25\n",
      "121/121 [==============================] - 30s 210ms/step - loss: 0.0281\n",
      "Epoch 2/25\n",
      "121/121 [==============================] - 26s 213ms/step - loss: 0.0076\n",
      "Epoch 3/25\n",
      "121/121 [==============================] - 27s 223ms/step - loss: 0.0067\n",
      "Epoch 4/25\n",
      "121/121 [==============================] - 27s 223ms/step - loss: 0.0064\n",
      "Epoch 5/25\n",
      "121/121 [==============================] - 27s 226ms/step - loss: 0.0051\n",
      "Epoch 6/25\n",
      "121/121 [==============================] - 27s 222ms/step - loss: 0.0052\n",
      "Epoch 7/25\n",
      "121/121 [==============================] - 27s 223ms/step - loss: 0.0047\n",
      "Epoch 8/25\n",
      "121/121 [==============================] - 26s 216ms/step - loss: 0.0042\n",
      "Epoch 9/25\n",
      "121/121 [==============================] - 26s 216ms/step - loss: 0.0042\n",
      "Epoch 10/25\n",
      "121/121 [==============================] - 26s 215ms/step - loss: 0.0041\n",
      "Epoch 11/25\n",
      "121/121 [==============================] - 26s 216ms/step - loss: 0.0039\n",
      "Epoch 12/25\n",
      "121/121 [==============================] - 27s 220ms/step - loss: 0.0038\n",
      "Epoch 13/25\n",
      "121/121 [==============================] - 26s 216ms/step - loss: 0.0032\n",
      "Epoch 14/25\n",
      "121/121 [==============================] - 26s 215ms/step - loss: 0.0033\n",
      "Epoch 15/25\n",
      "121/121 [==============================] - 26s 216ms/step - loss: 0.0029\n",
      "Epoch 16/25\n",
      "121/121 [==============================] - 27s 219ms/step - loss: 0.0028\n",
      "Epoch 17/25\n",
      "121/121 [==============================] - 26s 216ms/step - loss: 0.0029\n",
      "Epoch 18/25\n",
      "121/121 [==============================] - 26s 216ms/step - loss: 0.0028\n",
      "Epoch 19/25\n",
      "121/121 [==============================] - 26s 218ms/step - loss: 0.0027\n",
      "Epoch 20/25\n",
      "121/121 [==============================] - 27s 219ms/step - loss: 0.0027\n",
      "Epoch 21/25\n",
      "121/121 [==============================] - 27s 225ms/step - loss: 0.0026\n",
      "Epoch 22/25\n",
      "121/121 [==============================] - 26s 218ms/step - loss: 0.0026\n",
      "Epoch 23/25\n",
      "121/121 [==============================] - 26s 214ms/step - loss: 0.0025\n",
      "Epoch 24/25\n",
      "121/121 [==============================] - 26s 211ms/step - loss: 0.0026\n",
      "Epoch 25/25\n",
      "121/121 [==============================] - 26s 219ms/step - loss: 0.0024\n"
     ]
    },
    {
     "data": {
      "text/plain": [
       "<keras.src.callbacks.History at 0x1ad27b86d90>"
      ]
     },
     "execution_count": 25,
     "metadata": {},
     "output_type": "execute_result"
    }
   ],
   "source": [
    "model.compile(optimizer='adam',loss='mean_squared_error')\n",
    "model.fit(x_train,y_train,epochs=25)"
   ]
  },
  {
   "cell_type": "code",
   "execution_count": 26,
   "id": "443b0676",
   "metadata": {},
   "outputs": [],
   "source": [
    "model.save(\"lstm_saved_model.keras\")"
   ]
  },
  {
   "cell_type": "code",
   "execution_count": 27,
   "id": "f3df01e8",
   "metadata": {},
   "outputs": [
    {
     "data": {
      "text/plain": [
       "['lstm_saved_model.sav']"
      ]
     },
     "execution_count": 27,
     "metadata": {},
     "output_type": "execute_result"
    }
   ],
   "source": [
    "import joblib\n",
    "filename = 'lstm_saved_model.sav'\n",
    "joblib.dump(model, filename)"
   ]
  }
 ],
 "metadata": {
  "kernelspec": {
   "display_name": "Python 3 (ipykernel)",
   "language": "python",
   "name": "python3"
  },
  "language_info": {
   "codemirror_mode": {
    "name": "ipython",
    "version": 3
   },
   "file_extension": ".py",
   "mimetype": "text/x-python",
   "name": "python",
   "nbconvert_exporter": "python",
   "pygments_lexer": "ipython3",
   "version": "3.11.5"
  }
 },
 "nbformat": 4,
 "nbformat_minor": 5
}
