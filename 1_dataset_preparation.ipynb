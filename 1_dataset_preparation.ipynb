{
 "cells": [
  {
   "cell_type": "markdown",
   "id": "553fe671",
   "metadata": {},
   "source": [
    "# DataSet (Historic data) Preparation"
   ]
  },
  {
   "cell_type": "code",
   "execution_count": 1,
   "id": "b03f5831",
   "metadata": {},
   "outputs": [],
   "source": [
    "import yfinance as yf"
   ]
  },
  {
   "cell_type": "code",
   "execution_count": 2,
   "id": "af9972f2",
   "metadata": {},
   "outputs": [],
   "source": [
    "previous='2020-01-01'\n",
    "today='2023-09-30'"
   ]
  },
  {
   "cell_type": "code",
   "execution_count": 3,
   "id": "0407eaf8",
   "metadata": {},
   "outputs": [],
   "source": [
    "stock_name='TATAMOTORS.NS'"
   ]
  },
  {
   "cell_type": "code",
   "execution_count": 4,
   "id": "15cd5f3c",
   "metadata": {},
   "outputs": [
    {
     "name": "stdout",
     "output_type": "stream",
     "text": [
      "[*********************100%%**********************]  1 of 1 completed\n"
     ]
    },
    {
     "data": {
      "text/plain": [
       "pandas.core.frame.DataFrame"
      ]
     },
     "execution_count": 4,
     "metadata": {},
     "output_type": "execute_result"
    }
   ],
   "source": [
    "data =yf.download(stock_name,previous,today)\n",
    "type(data)"
   ]
  },
  {
   "cell_type": "code",
   "execution_count": 5,
   "id": "adb522a6",
   "metadata": {},
   "outputs": [],
   "source": [
    "data.to_csv('stock_data.csv')"
   ]
  },
  {
   "cell_type": "code",
   "execution_count": 6,
   "id": "8d55de37",
   "metadata": {},
   "outputs": [
    {
     "data": {
      "text/html": [
       "<div>\n",
       "<style scoped>\n",
       "    .dataframe tbody tr th:only-of-type {\n",
       "        vertical-align: middle;\n",
       "    }\n",
       "\n",
       "    .dataframe tbody tr th {\n",
       "        vertical-align: top;\n",
       "    }\n",
       "\n",
       "    .dataframe thead th {\n",
       "        text-align: right;\n",
       "    }\n",
       "</style>\n",
       "<table border=\"1\" class=\"dataframe\">\n",
       "  <thead>\n",
       "    <tr style=\"text-align: right;\">\n",
       "      <th></th>\n",
       "      <th>Open</th>\n",
       "      <th>High</th>\n",
       "      <th>Low</th>\n",
       "      <th>Close</th>\n",
       "      <th>Adj Close</th>\n",
       "      <th>Volume</th>\n",
       "    </tr>\n",
       "    <tr>\n",
       "      <th>Date</th>\n",
       "      <th></th>\n",
       "      <th></th>\n",
       "      <th></th>\n",
       "      <th></th>\n",
       "      <th></th>\n",
       "      <th></th>\n",
       "    </tr>\n",
       "  </thead>\n",
       "  <tbody>\n",
       "    <tr>\n",
       "      <th>2020-01-01</th>\n",
       "      <td>185.149994</td>\n",
       "      <td>186.699997</td>\n",
       "      <td>183.600006</td>\n",
       "      <td>184.449997</td>\n",
       "      <td>183.876907</td>\n",
       "      <td>25968357</td>\n",
       "    </tr>\n",
       "    <tr>\n",
       "      <th>2020-01-02</th>\n",
       "      <td>185.000000</td>\n",
       "      <td>194.699997</td>\n",
       "      <td>184.600006</td>\n",
       "      <td>193.750000</td>\n",
       "      <td>193.148010</td>\n",
       "      <td>57289863</td>\n",
       "    </tr>\n",
       "    <tr>\n",
       "      <th>2020-01-03</th>\n",
       "      <td>192.899994</td>\n",
       "      <td>195.649994</td>\n",
       "      <td>189.250000</td>\n",
       "      <td>191.100006</td>\n",
       "      <td>190.506256</td>\n",
       "      <td>47572728</td>\n",
       "    </tr>\n",
       "    <tr>\n",
       "      <th>2020-01-06</th>\n",
       "      <td>191.000000</td>\n",
       "      <td>191.000000</td>\n",
       "      <td>185.050003</td>\n",
       "      <td>185.649994</td>\n",
       "      <td>185.073181</td>\n",
       "      <td>28621212</td>\n",
       "    </tr>\n",
       "    <tr>\n",
       "      <th>2020-01-07</th>\n",
       "      <td>187.000000</td>\n",
       "      <td>189.399994</td>\n",
       "      <td>182.300003</td>\n",
       "      <td>184.699997</td>\n",
       "      <td>184.126129</td>\n",
       "      <td>34995035</td>\n",
       "    </tr>\n",
       "    <tr>\n",
       "      <th>...</th>\n",
       "      <td>...</td>\n",
       "      <td>...</td>\n",
       "      <td>...</td>\n",
       "      <td>...</td>\n",
       "      <td>...</td>\n",
       "      <td>...</td>\n",
       "    </tr>\n",
       "    <tr>\n",
       "      <th>2023-09-25</th>\n",
       "      <td>623.849976</td>\n",
       "      <td>625.200012</td>\n",
       "      <td>617.900024</td>\n",
       "      <td>618.700012</td>\n",
       "      <td>618.700012</td>\n",
       "      <td>6390681</td>\n",
       "    </tr>\n",
       "    <tr>\n",
       "      <th>2023-09-26</th>\n",
       "      <td>618.700012</td>\n",
       "      <td>625.700012</td>\n",
       "      <td>617.950012</td>\n",
       "      <td>619.799988</td>\n",
       "      <td>619.799988</td>\n",
       "      <td>6271108</td>\n",
       "    </tr>\n",
       "    <tr>\n",
       "      <th>2023-09-27</th>\n",
       "      <td>619.950012</td>\n",
       "      <td>621.900024</td>\n",
       "      <td>616.750000</td>\n",
       "      <td>620.150024</td>\n",
       "      <td>620.150024</td>\n",
       "      <td>5960490</td>\n",
       "    </tr>\n",
       "    <tr>\n",
       "      <th>2023-09-28</th>\n",
       "      <td>622.900024</td>\n",
       "      <td>623.799988</td>\n",
       "      <td>612.250000</td>\n",
       "      <td>614.099976</td>\n",
       "      <td>614.099976</td>\n",
       "      <td>6768196</td>\n",
       "    </tr>\n",
       "    <tr>\n",
       "      <th>2023-09-29</th>\n",
       "      <td>618.700012</td>\n",
       "      <td>633.000000</td>\n",
       "      <td>617.000000</td>\n",
       "      <td>630.200012</td>\n",
       "      <td>630.200012</td>\n",
       "      <td>8969405</td>\n",
       "    </tr>\n",
       "  </tbody>\n",
       "</table>\n",
       "<p>932 rows × 6 columns</p>\n",
       "</div>"
      ],
      "text/plain": [
       "                  Open        High         Low       Close   Adj Close  \\\n",
       "Date                                                                     \n",
       "2020-01-01  185.149994  186.699997  183.600006  184.449997  183.876907   \n",
       "2020-01-02  185.000000  194.699997  184.600006  193.750000  193.148010   \n",
       "2020-01-03  192.899994  195.649994  189.250000  191.100006  190.506256   \n",
       "2020-01-06  191.000000  191.000000  185.050003  185.649994  185.073181   \n",
       "2020-01-07  187.000000  189.399994  182.300003  184.699997  184.126129   \n",
       "...                ...         ...         ...         ...         ...   \n",
       "2023-09-25  623.849976  625.200012  617.900024  618.700012  618.700012   \n",
       "2023-09-26  618.700012  625.700012  617.950012  619.799988  619.799988   \n",
       "2023-09-27  619.950012  621.900024  616.750000  620.150024  620.150024   \n",
       "2023-09-28  622.900024  623.799988  612.250000  614.099976  614.099976   \n",
       "2023-09-29  618.700012  633.000000  617.000000  630.200012  630.200012   \n",
       "\n",
       "              Volume  \n",
       "Date                  \n",
       "2020-01-01  25968357  \n",
       "2020-01-02  57289863  \n",
       "2020-01-03  47572728  \n",
       "2020-01-06  28621212  \n",
       "2020-01-07  34995035  \n",
       "...              ...  \n",
       "2023-09-25   6390681  \n",
       "2023-09-26   6271108  \n",
       "2023-09-27   5960490  \n",
       "2023-09-28   6768196  \n",
       "2023-09-29   8969405  \n",
       "\n",
       "[932 rows x 6 columns]"
      ]
     },
     "execution_count": 6,
     "metadata": {},
     "output_type": "execute_result"
    }
   ],
   "source": [
    "data"
   ]
  },
  {
   "cell_type": "code",
   "execution_count": null,
   "id": "2988158f",
   "metadata": {},
   "outputs": [],
   "source": []
  }
 ],
 "metadata": {
  "kernelspec": {
   "display_name": "Python 3 (ipykernel)",
   "language": "python",
   "name": "python3"
  },
  "language_info": {
   "codemirror_mode": {
    "name": "ipython",
    "version": 3
   },
   "file_extension": ".py",
   "mimetype": "text/x-python",
   "name": "python",
   "nbconvert_exporter": "python",
   "pygments_lexer": "ipython3",
   "version": "3.12.0"
  }
 },
 "nbformat": 4,
 "nbformat_minor": 5
}
