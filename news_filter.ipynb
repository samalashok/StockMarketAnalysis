{
 "cells": [
  {
   "cell_type": "code",
   "execution_count": 11,
   "id": "f3458c51-bedf-4dc5-bf1a-d1f970ca36d6",
   "metadata": {},
   "outputs": [
    {
     "data": {
      "text/html": [
       "<div>\n",
       "<style scoped>\n",
       "    .dataframe tbody tr th:only-of-type {\n",
       "        vertical-align: middle;\n",
       "    }\n",
       "\n",
       "    .dataframe tbody tr th {\n",
       "        vertical-align: top;\n",
       "    }\n",
       "\n",
       "    .dataframe thead th {\n",
       "        text-align: right;\n",
       "    }\n",
       "</style>\n",
       "<table border=\"1\" class=\"dataframe\">\n",
       "  <thead>\n",
       "    <tr style=\"text-align: right;\">\n",
       "      <th></th>\n",
       "      <th>Date</th>\n",
       "      <th>news</th>\n",
       "    </tr>\n",
       "  </thead>\n",
       "  <tbody>\n",
       "    <tr>\n",
       "      <th>0</th>\n",
       "      <td>30-01-2020</td>\n",
       "      <td>Posers on wish to get Tata Dam water for dist</td>\n",
       "    </tr>\n",
       "    <tr>\n",
       "      <th>1</th>\n",
       "      <td>30-01-2020</td>\n",
       "      <td>Citizens gear up to wage another green war</td>\n",
       "    </tr>\n",
       "    <tr>\n",
       "      <th>2</th>\n",
       "      <td>29-01-2020</td>\n",
       "      <td>Tata Motors raises bar for rivals with killer ...</td>\n",
       "    </tr>\n",
       "    <tr>\n",
       "      <th>3</th>\n",
       "      <td>29-01-2020</td>\n",
       "      <td>Tata Motors raises bar for rivals with killer ...</td>\n",
       "    </tr>\n",
       "    <tr>\n",
       "      <th>4</th>\n",
       "      <td>29-01-2020</td>\n",
       "      <td>Sensex tanks 188 pts over Wuhan woes</td>\n",
       "    </tr>\n",
       "  </tbody>\n",
       "</table>\n",
       "</div>"
      ],
      "text/plain": [
       "         Date                                               news\n",
       "0  30-01-2020      Posers on wish to get Tata Dam water for dist\n",
       "1  30-01-2020         Citizens gear up to wage another green war\n",
       "2  29-01-2020  Tata Motors raises bar for rivals with killer ...\n",
       "3  29-01-2020  Tata Motors raises bar for rivals with killer ...\n",
       "4  29-01-2020               Sensex tanks 188 pts over Wuhan woes"
      ]
     },
     "execution_count": 11,
     "metadata": {},
     "output_type": "execute_result"
    }
   ],
   "source": [
    "import pandas as pd\n",
    "df=pd.read_csv('final_news.csv')\n",
    "df.head()"
   ]
  },
  {
   "cell_type": "code",
   "execution_count": 12,
   "id": "a5b041ad-cdce-46ea-bf0c-7cfbc6f52317",
   "metadata": {},
   "outputs": [],
   "source": [
    "keywords=['tata','ratan tata','tata motors','war','stock price','world war','stock market','tata motor','inflation','motors','automobile','jaguar','air india','airindia','titan watch','nifty','sensex','bse','nse','bombay stock exchange','national stock exchange','pandemic','nuclear war','New York Stock Exchange and Nasdaq','nyse','new york stock exchange','nasdaq']"
   ]
  },
  {
   "cell_type": "code",
   "execution_count": 14,
   "id": "d4c25d95-50e9-4c21-ba3d-c1297ede2ccf",
   "metadata": {},
   "outputs": [],
   "source": [
    "df=df.drop(['web-scraper-order','web-scraper-start-url','Jan-href'],axis=1)"
   ]
  },
  {
   "cell_type": "code",
   "execution_count": 13,
   "id": "38644dce-dd6d-4d75-ad05-c01d1b8ec9aa",
   "metadata": {},
   "outputs": [
    {
     "data": {
      "text/html": [
       "<div>\n",
       "<style scoped>\n",
       "    .dataframe tbody tr th:only-of-type {\n",
       "        vertical-align: middle;\n",
       "    }\n",
       "\n",
       "    .dataframe tbody tr th {\n",
       "        vertical-align: top;\n",
       "    }\n",
       "\n",
       "    .dataframe thead th {\n",
       "        text-align: right;\n",
       "    }\n",
       "</style>\n",
       "<table border=\"1\" class=\"dataframe\">\n",
       "  <thead>\n",
       "    <tr style=\"text-align: right;\">\n",
       "      <th></th>\n",
       "      <th>Date</th>\n",
       "      <th>news</th>\n",
       "    </tr>\n",
       "  </thead>\n",
       "  <tbody>\n",
       "    <tr>\n",
       "      <th>0</th>\n",
       "      <td>30-01-2020</td>\n",
       "      <td>Posers on wish to get Tata Dam water for dist</td>\n",
       "    </tr>\n",
       "    <tr>\n",
       "      <th>1</th>\n",
       "      <td>30-01-2020</td>\n",
       "      <td>Citizens gear up to wage another green war</td>\n",
       "    </tr>\n",
       "    <tr>\n",
       "      <th>2</th>\n",
       "      <td>29-01-2020</td>\n",
       "      <td>Tata Motors raises bar for rivals with killer ...</td>\n",
       "    </tr>\n",
       "    <tr>\n",
       "      <th>3</th>\n",
       "      <td>29-01-2020</td>\n",
       "      <td>Tata Motors raises bar for rivals with killer ...</td>\n",
       "    </tr>\n",
       "    <tr>\n",
       "      <th>4</th>\n",
       "      <td>29-01-2020</td>\n",
       "      <td>Sensex tanks 188 pts over Wuhan woes</td>\n",
       "    </tr>\n",
       "    <tr>\n",
       "      <th>...</th>\n",
       "      <td>...</td>\n",
       "      <td>...</td>\n",
       "    </tr>\n",
       "    <tr>\n",
       "      <th>7675</th>\n",
       "      <td>04-09-2023</td>\n",
       "      <td>DCM Fadnavis lays foundation stone for war mus...</td>\n",
       "    </tr>\n",
       "    <tr>\n",
       "      <th>7676</th>\n",
       "      <td>02-09-2023</td>\n",
       "      <td>August inflation to be high, will start easing...</td>\n",
       "    </tr>\n",
       "    <tr>\n",
       "      <th>7677</th>\n",
       "      <td>02-09-2023</td>\n",
       "      <td>Inflation will start easing in Sep, says RBI G...</td>\n",
       "    </tr>\n",
       "    <tr>\n",
       "      <th>7678</th>\n",
       "      <td>01-09-2023</td>\n",
       "      <td>Breathe! Delhi logs 2nd cleanest January-Augus...</td>\n",
       "    </tr>\n",
       "    <tr>\n",
       "      <th>7679</th>\n",
       "      <td>01-09-2023</td>\n",
       "      <td>Bondada Engg gets listed on BSE</td>\n",
       "    </tr>\n",
       "  </tbody>\n",
       "</table>\n",
       "<p>7680 rows × 2 columns</p>\n",
       "</div>"
      ],
      "text/plain": [
       "            Date                                               news\n",
       "0     30-01-2020      Posers on wish to get Tata Dam water for dist\n",
       "1     30-01-2020         Citizens gear up to wage another green war\n",
       "2     29-01-2020  Tata Motors raises bar for rivals with killer ...\n",
       "3     29-01-2020  Tata Motors raises bar for rivals with killer ...\n",
       "4     29-01-2020               Sensex tanks 188 pts over Wuhan woes\n",
       "...          ...                                                ...\n",
       "7675  04-09-2023  DCM Fadnavis lays foundation stone for war mus...\n",
       "7676  02-09-2023  August inflation to be high, will start easing...\n",
       "7677  02-09-2023  Inflation will start easing in Sep, says RBI G...\n",
       "7678  01-09-2023  Breathe! Delhi logs 2nd cleanest January-Augus...\n",
       "7679  01-09-2023                    Bondada Engg gets listed on BSE\n",
       "\n",
       "[7680 rows x 2 columns]"
      ]
     },
     "execution_count": 13,
     "metadata": {},
     "output_type": "execute_result"
    }
   ],
   "source": [
    "df"
   ]
  },
  {
   "cell_type": "code",
   "execution_count": 16,
   "id": "db15a617-9d2b-4df2-aa4f-86f3bca86094",
   "metadata": {},
   "outputs": [
    {
     "data": {
      "text/plain": [
       "'31 Jan, 2023'"
      ]
     },
     "execution_count": 16,
     "metadata": {},
     "output_type": "execute_result"
    }
   ],
   "source": [
    "df['date'][100]"
   ]
  },
  {
   "cell_type": "code",
   "execution_count": 14,
   "id": "1afd1fec-253f-4f8f-bad5-d76b13b5c915",
   "metadata": {},
   "outputs": [
    {
     "data": {
      "text/plain": [
       "(7680, 2)"
      ]
     },
     "execution_count": 14,
     "metadata": {},
     "output_type": "execute_result"
    }
   ],
   "source": [
    "df.shape"
   ]
  },
  {
   "cell_type": "code",
   "execution_count": 16,
   "id": "69c24729-5007-41fc-9b93-114fe9e1aab0",
   "metadata": {},
   "outputs": [],
   "source": [
    "l=df.shape[0] - 1\n",
    "while l>=0:\n",
    "    news= str(df['news'][l]).lower().split(\" \")\n",
    "    i=0\n",
    "    for keyw in keywords:\n",
    "        if keyw in news:\n",
    "            # print(keyw)\n",
    "            i=1\n",
    "            break\n",
    "    if i==0:\n",
    "        # print(l)\n",
    "        df.drop(index=[l],inplace=True)\n",
    "    l-=1"
   ]
  },
  {
   "cell_type": "code",
   "execution_count": 17,
   "id": "26b36c97-668a-4ec2-b735-d9c4a8614e87",
   "metadata": {},
   "outputs": [
    {
     "data": {
      "text/html": [
       "<div>\n",
       "<style scoped>\n",
       "    .dataframe tbody tr th:only-of-type {\n",
       "        vertical-align: middle;\n",
       "    }\n",
       "\n",
       "    .dataframe tbody tr th {\n",
       "        vertical-align: top;\n",
       "    }\n",
       "\n",
       "    .dataframe thead th {\n",
       "        text-align: right;\n",
       "    }\n",
       "</style>\n",
       "<table border=\"1\" class=\"dataframe\">\n",
       "  <thead>\n",
       "    <tr style=\"text-align: right;\">\n",
       "      <th></th>\n",
       "      <th>Date</th>\n",
       "      <th>news</th>\n",
       "    </tr>\n",
       "  </thead>\n",
       "  <tbody>\n",
       "    <tr>\n",
       "      <th>0</th>\n",
       "      <td>30-01-2020</td>\n",
       "      <td>Posers on wish to get Tata Dam water for dist</td>\n",
       "    </tr>\n",
       "    <tr>\n",
       "      <th>1</th>\n",
       "      <td>30-01-2020</td>\n",
       "      <td>Citizens gear up to wage another green war</td>\n",
       "    </tr>\n",
       "    <tr>\n",
       "      <th>2</th>\n",
       "      <td>29-01-2020</td>\n",
       "      <td>Tata Motors raises bar for rivals with killer ...</td>\n",
       "    </tr>\n",
       "    <tr>\n",
       "      <th>3</th>\n",
       "      <td>29-01-2020</td>\n",
       "      <td>Tata Motors raises bar for rivals with killer ...</td>\n",
       "    </tr>\n",
       "    <tr>\n",
       "      <th>4</th>\n",
       "      <td>29-01-2020</td>\n",
       "      <td>Sensex tanks 188 pts over Wuhan woes</td>\n",
       "    </tr>\n",
       "    <tr>\n",
       "      <th>...</th>\n",
       "      <td>...</td>\n",
       "      <td>...</td>\n",
       "    </tr>\n",
       "    <tr>\n",
       "      <th>7674</th>\n",
       "      <td>05-09-2023</td>\n",
       "      <td>BSE mcap hits new high of ₹318L cr as sensex r...</td>\n",
       "    </tr>\n",
       "    <tr>\n",
       "      <th>7675</th>\n",
       "      <td>04-09-2023</td>\n",
       "      <td>DCM Fadnavis lays foundation stone for war mus...</td>\n",
       "    </tr>\n",
       "    <tr>\n",
       "      <th>7676</th>\n",
       "      <td>02-09-2023</td>\n",
       "      <td>August inflation to be high, will start easing...</td>\n",
       "    </tr>\n",
       "    <tr>\n",
       "      <th>7677</th>\n",
       "      <td>02-09-2023</td>\n",
       "      <td>Inflation will start easing in Sep, says RBI G...</td>\n",
       "    </tr>\n",
       "    <tr>\n",
       "      <th>7679</th>\n",
       "      <td>01-09-2023</td>\n",
       "      <td>Bondada Engg gets listed on BSE</td>\n",
       "    </tr>\n",
       "  </tbody>\n",
       "</table>\n",
       "<p>4048 rows × 2 columns</p>\n",
       "</div>"
      ],
      "text/plain": [
       "            Date                                               news\n",
       "0     30-01-2020      Posers on wish to get Tata Dam water for dist\n",
       "1     30-01-2020         Citizens gear up to wage another green war\n",
       "2     29-01-2020  Tata Motors raises bar for rivals with killer ...\n",
       "3     29-01-2020  Tata Motors raises bar for rivals with killer ...\n",
       "4     29-01-2020               Sensex tanks 188 pts over Wuhan woes\n",
       "...          ...                                                ...\n",
       "7674  05-09-2023  BSE mcap hits new high of ₹318L cr as sensex r...\n",
       "7675  04-09-2023  DCM Fadnavis lays foundation stone for war mus...\n",
       "7676  02-09-2023  August inflation to be high, will start easing...\n",
       "7677  02-09-2023  Inflation will start easing in Sep, says RBI G...\n",
       "7679  01-09-2023                    Bondada Engg gets listed on BSE\n",
       "\n",
       "[4048 rows x 2 columns]"
      ]
     },
     "execution_count": 17,
     "metadata": {},
     "output_type": "execute_result"
    }
   ],
   "source": [
    "df"
   ]
  },
  {
   "cell_type": "code",
   "execution_count": 18,
   "id": "db884d9f-ab21-449b-acee-0e7795fbfa25",
   "metadata": {},
   "outputs": [],
   "source": [
    "df.reset_index(drop=True, inplace=True)"
   ]
  },
  {
   "cell_type": "code",
   "execution_count": 19,
   "id": "5e9d9226-d3e5-4ab9-a8cf-5686c1db7002",
   "metadata": {},
   "outputs": [
    {
     "data": {
      "text/html": [
       "<div>\n",
       "<style scoped>\n",
       "    .dataframe tbody tr th:only-of-type {\n",
       "        vertical-align: middle;\n",
       "    }\n",
       "\n",
       "    .dataframe tbody tr th {\n",
       "        vertical-align: top;\n",
       "    }\n",
       "\n",
       "    .dataframe thead th {\n",
       "        text-align: right;\n",
       "    }\n",
       "</style>\n",
       "<table border=\"1\" class=\"dataframe\">\n",
       "  <thead>\n",
       "    <tr style=\"text-align: right;\">\n",
       "      <th></th>\n",
       "      <th>Date</th>\n",
       "      <th>news</th>\n",
       "    </tr>\n",
       "  </thead>\n",
       "  <tbody>\n",
       "    <tr>\n",
       "      <th>0</th>\n",
       "      <td>30-01-2020</td>\n",
       "      <td>Posers on wish to get Tata Dam water for dist</td>\n",
       "    </tr>\n",
       "    <tr>\n",
       "      <th>1</th>\n",
       "      <td>30-01-2020</td>\n",
       "      <td>Citizens gear up to wage another green war</td>\n",
       "    </tr>\n",
       "    <tr>\n",
       "      <th>2</th>\n",
       "      <td>29-01-2020</td>\n",
       "      <td>Tata Motors raises bar for rivals with killer ...</td>\n",
       "    </tr>\n",
       "    <tr>\n",
       "      <th>3</th>\n",
       "      <td>29-01-2020</td>\n",
       "      <td>Tata Motors raises bar for rivals with killer ...</td>\n",
       "    </tr>\n",
       "    <tr>\n",
       "      <th>4</th>\n",
       "      <td>29-01-2020</td>\n",
       "      <td>Sensex tanks 188 pts over Wuhan woes</td>\n",
       "    </tr>\n",
       "    <tr>\n",
       "      <th>...</th>\n",
       "      <td>...</td>\n",
       "      <td>...</td>\n",
       "    </tr>\n",
       "    <tr>\n",
       "      <th>4043</th>\n",
       "      <td>05-09-2023</td>\n",
       "      <td>BSE mcap hits new high of ₹318L cr as sensex r...</td>\n",
       "    </tr>\n",
       "    <tr>\n",
       "      <th>4044</th>\n",
       "      <td>04-09-2023</td>\n",
       "      <td>DCM Fadnavis lays foundation stone for war mus...</td>\n",
       "    </tr>\n",
       "    <tr>\n",
       "      <th>4045</th>\n",
       "      <td>02-09-2023</td>\n",
       "      <td>August inflation to be high, will start easing...</td>\n",
       "    </tr>\n",
       "    <tr>\n",
       "      <th>4046</th>\n",
       "      <td>02-09-2023</td>\n",
       "      <td>Inflation will start easing in Sep, says RBI G...</td>\n",
       "    </tr>\n",
       "    <tr>\n",
       "      <th>4047</th>\n",
       "      <td>01-09-2023</td>\n",
       "      <td>Bondada Engg gets listed on BSE</td>\n",
       "    </tr>\n",
       "  </tbody>\n",
       "</table>\n",
       "<p>4048 rows × 2 columns</p>\n",
       "</div>"
      ],
      "text/plain": [
       "            Date                                               news\n",
       "0     30-01-2020      Posers on wish to get Tata Dam water for dist\n",
       "1     30-01-2020         Citizens gear up to wage another green war\n",
       "2     29-01-2020  Tata Motors raises bar for rivals with killer ...\n",
       "3     29-01-2020  Tata Motors raises bar for rivals with killer ...\n",
       "4     29-01-2020               Sensex tanks 188 pts over Wuhan woes\n",
       "...          ...                                                ...\n",
       "4043  05-09-2023  BSE mcap hits new high of ₹318L cr as sensex r...\n",
       "4044  04-09-2023  DCM Fadnavis lays foundation stone for war mus...\n",
       "4045  02-09-2023  August inflation to be high, will start easing...\n",
       "4046  02-09-2023  Inflation will start easing in Sep, says RBI G...\n",
       "4047  01-09-2023                    Bondada Engg gets listed on BSE\n",
       "\n",
       "[4048 rows x 2 columns]"
      ]
     },
     "execution_count": 19,
     "metadata": {},
     "output_type": "execute_result"
    }
   ],
   "source": [
    "df"
   ]
  },
  {
   "cell_type": "code",
   "execution_count": 21,
   "id": "34c912b1-1c75-4aff-a7c4-78052abe065a",
   "metadata": {},
   "outputs": [
    {
     "data": {
      "text/plain": [
       "'Pune: Automobile company’s DGM duped of Rs 2.94 lakh in I-T refund fraud case'"
      ]
     },
     "execution_count": 21,
     "metadata": {},
     "output_type": "execute_result"
    }
   ],
   "source": [
    "df['news'][20]"
   ]
  }
 ],
 "metadata": {
  "kernelspec": {
   "display_name": "Python 3 (ipykernel)",
   "language": "python",
   "name": "python3"
  },
  "language_info": {
   "codemirror_mode": {
    "name": "ipython",
    "version": 3
   },
   "file_extension": ".py",
   "mimetype": "text/x-python",
   "name": "python",
   "nbconvert_exporter": "python",
   "pygments_lexer": "ipython3",
   "version": "3.11.5"
  }
 },
 "nbformat": 4,
 "nbformat_minor": 5
}
