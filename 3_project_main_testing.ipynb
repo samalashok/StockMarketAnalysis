{
 "cells": [
  {
   "cell_type": "markdown",
   "id": "43334720",
   "metadata": {},
   "source": [
    "#  Model Testing"
   ]
  },
  {
   "cell_type": "code",
   "execution_count": 1,
   "id": "33946e00",
   "metadata": {},
   "outputs": [
    {
     "name": "stdout",
     "output_type": "stream",
     "text": [
      "WARNING:tensorflow:From C:\\Users\\Acer\\anaconda3\\Lib\\site-packages\\keras\\src\\losses.py:2976: The name tf.losses.sparse_softmax_cross_entropy is deprecated. Please use tf.compat.v1.losses.sparse_softmax_cross_entropy instead.\n",
      "\n"
     ]
    }
   ],
   "source": [
    "from tensorflow import keras\n",
    "import pandas as pd\n",
    "import numpy as np\n",
    "from sklearn.preprocessing import MinMaxScaler\n",
    "import joblib\n",
    "import matplotlib.pyplot as plt"
   ]
  },
  {
   "cell_type": "code",
   "execution_count": 2,
   "id": "80b25eba",
   "metadata": {},
   "outputs": [
    {
     "name": "stdout",
     "output_type": "stream",
     "text": [
      "WARNING:tensorflow:From C:\\Users\\Acer\\anaconda3\\Lib\\site-packages\\keras\\src\\backend.py:1398: The name tf.executing_eagerly_outside_functions is deprecated. Please use tf.compat.v1.executing_eagerly_outside_functions instead.\n",
      "\n",
      "WARNING:tensorflow:From C:\\Users\\Acer\\anaconda3\\Lib\\site-packages\\keras\\src\\optimizers\\__init__.py:309: The name tf.train.Optimizer is deprecated. Please use tf.compat.v1.train.Optimizer instead.\n",
      "\n"
     ]
    }
   ],
   "source": [
    "model = keras.models.load_model(\"lstm_saved_model_final.keras\")"
   ]
  },
  {
   "cell_type": "code",
   "execution_count": 3,
   "id": "60bc2fed",
   "metadata": {},
   "outputs": [
    {
     "data": {
      "text/plain": [
       "(745, 2)"
      ]
     },
     "execution_count": 3,
     "metadata": {},
     "output_type": "execute_result"
    }
   ],
   "source": [
    "data_training=pd.read_csv(\"data_training.csv\")\n",
    "data_training.shape"
   ]
  },
  {
   "cell_type": "code",
   "execution_count": 4,
   "id": "c11d3c57",
   "metadata": {},
   "outputs": [
    {
     "data": {
      "text/plain": [
       "(187, 2)"
      ]
     },
     "execution_count": 4,
     "metadata": {},
     "output_type": "execute_result"
    }
   ],
   "source": [
    "data_testing=pd.read_csv(\"data_testing.csv\")\n",
    "data_testing.shape"
   ]
  },
  {
   "cell_type": "code",
   "execution_count": 5,
   "id": "f1e741d0",
   "metadata": {},
   "outputs": [
    {
     "data": {
      "text/html": [
       "<div>\n",
       "<style scoped>\n",
       "    .dataframe tbody tr th:only-of-type {\n",
       "        vertical-align: middle;\n",
       "    }\n",
       "\n",
       "    .dataframe tbody tr th {\n",
       "        vertical-align: top;\n",
       "    }\n",
       "\n",
       "    .dataframe thead th {\n",
       "        text-align: right;\n",
       "    }\n",
       "</style>\n",
       "<table border=\"1\" class=\"dataframe\">\n",
       "  <thead>\n",
       "    <tr style=\"text-align: right;\">\n",
       "      <th></th>\n",
       "      <th>Close</th>\n",
       "      <th>output</th>\n",
       "    </tr>\n",
       "  </thead>\n",
       "  <tbody>\n",
       "    <tr>\n",
       "      <th>735</th>\n",
       "      <td>416.700012</td>\n",
       "      <td>1</td>\n",
       "    </tr>\n",
       "    <tr>\n",
       "      <th>736</th>\n",
       "      <td>421.600006</td>\n",
       "      <td>1</td>\n",
       "    </tr>\n",
       "    <tr>\n",
       "      <th>737</th>\n",
       "      <td>418.000000</td>\n",
       "      <td>1</td>\n",
       "    </tr>\n",
       "    <tr>\n",
       "      <th>738</th>\n",
       "      <td>410.500000</td>\n",
       "      <td>1</td>\n",
       "    </tr>\n",
       "    <tr>\n",
       "      <th>739</th>\n",
       "      <td>402.600006</td>\n",
       "      <td>1</td>\n",
       "    </tr>\n",
       "    <tr>\n",
       "      <th>740</th>\n",
       "      <td>394.450012</td>\n",
       "      <td>1</td>\n",
       "    </tr>\n",
       "    <tr>\n",
       "      <th>741</th>\n",
       "      <td>378.350006</td>\n",
       "      <td>1</td>\n",
       "    </tr>\n",
       "    <tr>\n",
       "      <th>742</th>\n",
       "      <td>384.799988</td>\n",
       "      <td>1</td>\n",
       "    </tr>\n",
       "    <tr>\n",
       "      <th>743</th>\n",
       "      <td>394.149994</td>\n",
       "      <td>1</td>\n",
       "    </tr>\n",
       "    <tr>\n",
       "      <th>744</th>\n",
       "      <td>391.299988</td>\n",
       "      <td>2</td>\n",
       "    </tr>\n",
       "  </tbody>\n",
       "</table>\n",
       "</div>"
      ],
      "text/plain": [
       "          Close  output\n",
       "735  416.700012       1\n",
       "736  421.600006       1\n",
       "737  418.000000       1\n",
       "738  410.500000       1\n",
       "739  402.600006       1\n",
       "740  394.450012       1\n",
       "741  378.350006       1\n",
       "742  384.799988       1\n",
       "743  394.149994       1\n",
       "744  391.299988       2"
      ]
     },
     "execution_count": 5,
     "metadata": {},
     "output_type": "execute_result"
    }
   ],
   "source": [
    "n=10\n",
    "past10=data_training.tail(10)\n",
    "past10"
   ]
  },
  {
   "cell_type": "code",
   "execution_count": 6,
   "id": "2d8aff6a",
   "metadata": {},
   "outputs": [],
   "source": [
    "final = pd.concat([past10, data_testing], ignore_index=True, sort=False)"
   ]
  },
  {
   "cell_type": "code",
   "execution_count": 7,
   "id": "23ead3f8",
   "metadata": {},
   "outputs": [
    {
     "data": {
      "text/html": [
       "<div>\n",
       "<style scoped>\n",
       "    .dataframe tbody tr th:only-of-type {\n",
       "        vertical-align: middle;\n",
       "    }\n",
       "\n",
       "    .dataframe tbody tr th {\n",
       "        vertical-align: top;\n",
       "    }\n",
       "\n",
       "    .dataframe thead th {\n",
       "        text-align: right;\n",
       "    }\n",
       "</style>\n",
       "<table border=\"1\" class=\"dataframe\">\n",
       "  <thead>\n",
       "    <tr style=\"text-align: right;\">\n",
       "      <th></th>\n",
       "      <th>Close</th>\n",
       "      <th>output</th>\n",
       "    </tr>\n",
       "  </thead>\n",
       "  <tbody>\n",
       "    <tr>\n",
       "      <th>0</th>\n",
       "      <td>416.700012</td>\n",
       "      <td>1</td>\n",
       "    </tr>\n",
       "    <tr>\n",
       "      <th>1</th>\n",
       "      <td>421.600006</td>\n",
       "      <td>1</td>\n",
       "    </tr>\n",
       "    <tr>\n",
       "      <th>2</th>\n",
       "      <td>418.000000</td>\n",
       "      <td>1</td>\n",
       "    </tr>\n",
       "    <tr>\n",
       "      <th>3</th>\n",
       "      <td>410.500000</td>\n",
       "      <td>1</td>\n",
       "    </tr>\n",
       "    <tr>\n",
       "      <th>4</th>\n",
       "      <td>402.600006</td>\n",
       "      <td>1</td>\n",
       "    </tr>\n",
       "    <tr>\n",
       "      <th>...</th>\n",
       "      <td>...</td>\n",
       "      <td>...</td>\n",
       "    </tr>\n",
       "    <tr>\n",
       "      <th>192</th>\n",
       "      <td>618.700012</td>\n",
       "      <td>1</td>\n",
       "    </tr>\n",
       "    <tr>\n",
       "      <th>193</th>\n",
       "      <td>619.799988</td>\n",
       "      <td>1</td>\n",
       "    </tr>\n",
       "    <tr>\n",
       "      <th>194</th>\n",
       "      <td>620.150024</td>\n",
       "      <td>1</td>\n",
       "    </tr>\n",
       "    <tr>\n",
       "      <th>195</th>\n",
       "      <td>614.099976</td>\n",
       "      <td>1</td>\n",
       "    </tr>\n",
       "    <tr>\n",
       "      <th>196</th>\n",
       "      <td>630.200012</td>\n",
       "      <td>0</td>\n",
       "    </tr>\n",
       "  </tbody>\n",
       "</table>\n",
       "<p>197 rows × 2 columns</p>\n",
       "</div>"
      ],
      "text/plain": [
       "          Close  output\n",
       "0    416.700012       1\n",
       "1    421.600006       1\n",
       "2    418.000000       1\n",
       "3    410.500000       1\n",
       "4    402.600006       1\n",
       "..          ...     ...\n",
       "192  618.700012       1\n",
       "193  619.799988       1\n",
       "194  620.150024       1\n",
       "195  614.099976       1\n",
       "196  630.200012       0\n",
       "\n",
       "[197 rows x 2 columns]"
      ]
     },
     "execution_count": 7,
     "metadata": {},
     "output_type": "execute_result"
    }
   ],
   "source": [
    "final"
   ]
  },
  {
   "cell_type": "code",
   "execution_count": 8,
   "id": "444fe115",
   "metadata": {},
   "outputs": [],
   "source": [
    "dummy=final['Close']\n",
    "dummy=pd.DataFrame(dummy)\n",
    "scaler=MinMaxScaler(feature_range=(0,1))\n",
    "dummy=scaler.fit_transform(dummy)"
   ]
  },
  {
   "cell_type": "code",
   "execution_count": 9,
   "id": "92079283",
   "metadata": {},
   "outputs": [],
   "source": [
    "scale=MinMaxScaler(feature_range=(0,1))"
   ]
  },
  {
   "cell_type": "code",
   "execution_count": 10,
   "id": "65fe1907",
   "metadata": {},
   "outputs": [
    {
     "data": {
      "text/plain": [
       "(197, 2)"
      ]
     },
     "execution_count": 10,
     "metadata": {},
     "output_type": "execute_result"
    }
   ],
   "source": [
    "test_data=scale.fit_transform(final)\n",
    "test_data.shape"
   ]
  },
  {
   "cell_type": "code",
   "execution_count": 11,
   "id": "b086a6f4",
   "metadata": {},
   "outputs": [],
   "source": [
    "x_test=[]\n",
    "y_test=[]\n",
    "import numpy as np"
   ]
  },
  {
   "cell_type": "code",
   "execution_count": 12,
   "id": "854dbee0",
   "metadata": {},
   "outputs": [],
   "source": [
    "n=10\n",
    "for i in range(n,test_data.shape[0]):\n",
    "    li1=[]\n",
    "    for j in range(0,n):\n",
    "        li1.append(test_data[i-n][0])\n",
    "        li1.append(test_data[i-n][1])\n",
    "    x_test.append(li1)\n",
    "    y_test.append(test_data[i,0])\n",
    "\n",
    "x_test=np.array(x_test)\n",
    "y_test=np.array(y_test)"
   ]
  },
  {
   "cell_type": "code",
   "execution_count": 13,
   "id": "860e0ac9",
   "metadata": {},
   "outputs": [
    {
     "data": {
      "text/plain": [
       "array([[0.14420007, 0.5       , 0.14420007, ..., 0.5       , 0.14420007,\n",
       "        0.5       ],\n",
       "       [0.16262456, 0.5       , 0.16262456, ..., 0.5       , 0.16262456,\n",
       "        0.5       ],\n",
       "       [0.14908816, 0.5       , 0.14908816, ..., 0.5       , 0.14908816,\n",
       "        0.5       ],\n",
       "       ...,\n",
       "       [0.91163752, 1.        , 0.91163752, ..., 1.        , 0.91163752,\n",
       "        1.        ],\n",
       "       [0.9308142 , 1.        , 0.9308142 , ..., 1.        , 0.9308142 ,\n",
       "        1.        ],\n",
       "       [0.92592587, 0.5       , 0.92592587, ..., 0.5       , 0.92592587,\n",
       "        0.5       ]])"
      ]
     },
     "execution_count": 13,
     "metadata": {},
     "output_type": "execute_result"
    }
   ],
   "source": [
    "x_test"
   ]
  },
  {
   "cell_type": "code",
   "execution_count": 14,
   "id": "ed2d4ed3",
   "metadata": {},
   "outputs": [
    {
     "data": {
      "text/plain": [
       "((187, 20), (187,))"
      ]
     },
     "execution_count": 14,
     "metadata": {},
     "output_type": "execute_result"
    }
   ],
   "source": [
    "x_test.shape,y_test.shape"
   ]
  },
  {
   "cell_type": "code",
   "execution_count": 15,
   "id": "969ecb0b",
   "metadata": {},
   "outputs": [
    {
     "name": "stdout",
     "output_type": "stream",
     "text": [
      "6/6 [==============================] - 1s 13ms/step\n"
     ]
    },
    {
     "data": {
      "text/plain": [
       "(187, 1)"
      ]
     },
     "execution_count": 15,
     "metadata": {},
     "output_type": "execute_result"
    }
   ],
   "source": [
    "y_pred=model.predict(x_test)\n",
    "y_pred.shape"
   ]
  },
  {
   "cell_type": "code",
   "execution_count": 16,
   "id": "482bbfb2",
   "metadata": {},
   "outputs": [
    {
     "data": {
      "text/plain": [
       "array([[0.15995082],\n",
       "       [0.17248464],\n",
       "       [0.16313234],\n",
       "       [0.14435796],\n",
       "       [0.11227797],\n",
       "       [0.08299235],\n",
       "       [0.0707611 ],\n",
       "       [0.07124606],\n",
       "       [0.08213648],\n",
       "       [0.10911992],\n",
       "       [0.1052535 ],\n",
       "       [0.07291651],\n",
       "       [0.08406031],\n",
       "       [0.11239603],\n",
       "       [0.07153514],\n",
       "       [0.07227015],\n",
       "       [0.07067192],\n",
       "       [0.10774098],\n",
       "       [0.15111306],\n",
       "       [0.14223564],\n",
       "       [0.14930734],\n",
       "       [0.14723049],\n",
       "       [0.15139444],\n",
       "       [0.15665333],\n",
       "       [0.13855049],\n",
       "       [0.10519522],\n",
       "       [0.12746781],\n",
       "       [0.13855049],\n",
       "       [0.17400765],\n",
       "       [0.16580003],\n",
       "       [0.23714806],\n",
       "       [0.25062484],\n",
       "       [0.31581745],\n",
       "       [0.26025024],\n",
       "       [0.2555657 ],\n",
       "       [0.257583  ],\n",
       "       [0.2433348 ],\n",
       "       [0.21750095],\n",
       "       [0.235264  ],\n",
       "       [0.2222216 ],\n",
       "       [0.25851923],\n",
       "       [0.23917708],\n",
       "       [0.22462413],\n",
       "       [0.2527906 ],\n",
       "       [0.24152713],\n",
       "       [0.23446178],\n",
       "       [0.24778798],\n",
       "       [0.22128221],\n",
       "       [0.19691095],\n",
       "       [0.19846737],\n",
       "       [0.19104075],\n",
       "       [0.16300675],\n",
       "       [0.1700553 ],\n",
       "       [0.18541284],\n",
       "       [0.17033036],\n",
       "       [0.19185847],\n",
       "       [0.25519684],\n",
       "       [0.23205662],\n",
       "       [0.20668706],\n",
       "       [0.21890408],\n",
       "       [0.17470393],\n",
       "       [0.13666373],\n",
       "       [0.11804003],\n",
       "       [0.15758243],\n",
       "       [0.16589206],\n",
       "       [0.1450656 ],\n",
       "       [0.12216453],\n",
       "       [0.13471228],\n",
       "       [0.16605076],\n",
       "       [0.15947127],\n",
       "       [0.14875895],\n",
       "       [0.10831825],\n",
       "       [0.14078239],\n",
       "       [0.17032169],\n",
       "       [0.18009019],\n",
       "       [0.18715641],\n",
       "       [0.22563218],\n",
       "       [0.33258688],\n",
       "       [0.3093289 ],\n",
       "       [0.37926614],\n",
       "       [0.44626653],\n",
       "       [0.4352364 ],\n",
       "       [0.13464268],\n",
       "       [0.4171176 ],\n",
       "       [0.4613326 ],\n",
       "       [0.42917717],\n",
       "       [0.45305896],\n",
       "       [0.44379708],\n",
       "       [0.46826237],\n",
       "       [0.48321906],\n",
       "       [0.5228611 ],\n",
       "       [0.47774032],\n",
       "       [0.5088885 ],\n",
       "       [0.4801011 ],\n",
       "       [0.4627961 ],\n",
       "       [0.52540797],\n",
       "       [0.5305488 ],\n",
       "       [0.53552544],\n",
       "       [0.53895956],\n",
       "       [0.5435785 ],\n",
       "       [0.56998104],\n",
       "       [0.55020654],\n",
       "       [0.54306793],\n",
       "       [0.53444314],\n",
       "       [0.55428624],\n",
       "       [0.5502163 ],\n",
       "       [0.5613682 ],\n",
       "       [0.54696524],\n",
       "       [0.540854  ],\n",
       "       [0.5447787 ],\n",
       "       [0.5486636 ],\n",
       "       [0.54704434],\n",
       "       [0.5569715 ],\n",
       "       [0.5785451 ],\n",
       "       [0.58071434],\n",
       "       [0.6477668 ],\n",
       "       [0.67194223],\n",
       "       [0.7341264 ],\n",
       "       [0.6936646 ],\n",
       "       [0.7477143 ],\n",
       "       [0.7165869 ],\n",
       "       [0.7068634 ],\n",
       "       [0.7431606 ],\n",
       "       [0.7360884 ],\n",
       "       [0.7413031 ],\n",
       "       [0.76361704],\n",
       "       [0.7848684 ],\n",
       "       [0.779559  ],\n",
       "       [0.7765442 ],\n",
       "       [0.6933956 ],\n",
       "       [0.733714  ],\n",
       "       [0.7529787 ],\n",
       "       [0.7529787 ],\n",
       "       [0.81807363],\n",
       "       [0.8457782 ],\n",
       "       [0.84753156],\n",
       "       [0.79866004],\n",
       "       [0.83091646],\n",
       "       [0.9084449 ],\n",
       "       [0.8699271 ],\n",
       "       [0.8800663 ],\n",
       "       [0.87553614],\n",
       "       [0.9130019 ],\n",
       "       [0.91759646],\n",
       "       [0.8696257 ],\n",
       "       [0.85608464],\n",
       "       [0.87383646],\n",
       "       [0.91484267],\n",
       "       [0.86268497],\n",
       "       [0.88028044],\n",
       "       [0.88284487],\n",
       "       [0.92012835],\n",
       "       [0.92044777],\n",
       "       [0.9193408 ],\n",
       "       [0.8839128 ],\n",
       "       [0.8837723 ],\n",
       "       [0.8607824 ],\n",
       "       [0.852173  ],\n",
       "       [0.86230713],\n",
       "       [0.8905351 ],\n",
       "       [0.8856713 ],\n",
       "       [0.87764937],\n",
       "       [0.9085385 ],\n",
       "       [0.85543776],\n",
       "       [0.845823  ],\n",
       "       [0.8516951 ],\n",
       "       [0.85963255],\n",
       "       [0.844361  ],\n",
       "       [0.87363625],\n",
       "       [0.9121715 ],\n",
       "       [0.85995454],\n",
       "       [0.853603  ],\n",
       "       [0.8408842 ],\n",
       "       [0.8346872 ],\n",
       "       [0.8453893 ],\n",
       "       [0.84190625],\n",
       "       [0.83139443],\n",
       "       [0.8541427 ],\n",
       "       [0.8493931 ],\n",
       "       [0.8941359 ],\n",
       "       [0.8520919 ],\n",
       "       [0.8620939 ],\n",
       "       [0.86329347],\n",
       "       [0.8817492 ],\n",
       "       [0.9132784 ],\n",
       "       [0.91776735],\n",
       "       [0.8789263 ]], dtype=float32)"
      ]
     },
     "execution_count": 16,
     "metadata": {},
     "output_type": "execute_result"
    }
   ],
   "source": [
    "y_pred"
   ]
  },
  {
   "cell_type": "code",
   "execution_count": 17,
   "id": "2c0e9db4",
   "metadata": {},
   "outputs": [
    {
     "data": {
      "text/plain": [
       "(187, 1)"
      ]
     },
     "execution_count": 17,
     "metadata": {},
     "output_type": "execute_result"
    }
   ],
   "source": [
    "y_pred.shape"
   ]
  },
  {
   "cell_type": "code",
   "execution_count": 18,
   "id": "b470573c",
   "metadata": {},
   "outputs": [],
   "source": [
    "y_pred=pd.DataFrame(y_pred)\n",
    "y_test=pd.DataFrame(y_test)"
   ]
  },
  {
   "cell_type": "code",
   "execution_count": 19,
   "id": "86bf5bec",
   "metadata": {},
   "outputs": [],
   "source": [
    "y_pred=scaler.inverse_transform(y_pred)\n",
    "y_test=scaler.inverse_transform(y_test)"
   ]
  },
  {
   "cell_type": "code",
   "execution_count": 20,
   "id": "591ec99a",
   "metadata": {},
   "outputs": [
    {
     "data": {
      "text/plain": [
       "array([[385.8999939 ],\n",
       "       [387.95001221],\n",
       "       [394.79998779],\n",
       "       [393.8999939 ],\n",
       "       [385.6000061 ],\n",
       "       [386.8999939 ],\n",
       "       [382.        ],\n",
       "       [389.45001221],\n",
       "       [412.8999939 ],\n",
       "       [418.20001221],\n",
       "       [412.25      ],\n",
       "       [411.5       ],\n",
       "       [413.        ],\n",
       "       [415.29998779],\n",
       "       [408.3999939 ],\n",
       "       [400.75      ],\n",
       "       [403.1499939 ],\n",
       "       [408.3999939 ],\n",
       "       [422.1499939 ],\n",
       "       [419.04998779],\n",
       "       [445.6000061 ],\n",
       "       [443.6499939 ],\n",
       "       [452.1000061 ],\n",
       "       [446.6499939 ],\n",
       "       [444.79998779],\n",
       "       [445.45001221],\n",
       "       [442.        ],\n",
       "       [435.45001221],\n",
       "       [440.1000061 ],\n",
       "       [436.75      ],\n",
       "       [445.8500061 ],\n",
       "       [441.04998779],\n",
       "       [440.54998779],\n",
       "       [444.1499939 ],\n",
       "       [441.6000061 ],\n",
       "       [439.8999939 ],\n",
       "       [443.        ],\n",
       "       [436.5       ],\n",
       "       [429.45001221],\n",
       "       [433.20001221],\n",
       "       [427.75      ],\n",
       "       [417.95001221],\n",
       "       [420.70001221],\n",
       "       [426.        ],\n",
       "       [420.45001221],\n",
       "       [428.        ],\n",
       "       [440.1000061 ],\n",
       "       [439.29998779],\n",
       "       [432.20001221],\n",
       "       [435.8500061 ],\n",
       "       [422.3999939 ],\n",
       "       [416.6499939 ],\n",
       "       [411.3500061 ],\n",
       "       [415.70001221],\n",
       "       [419.        ],\n",
       "       [410.75      ],\n",
       "       [412.54998779],\n",
       "       [416.1000061 ],\n",
       "       [419.1499939 ],\n",
       "       [416.5       ],\n",
       "       [412.04998779],\n",
       "       [401.6000061 ],\n",
       "       [409.20001221],\n",
       "       [420.79998779],\n",
       "       [424.25      ],\n",
       "       [426.54998779],\n",
       "       [437.6499939 ],\n",
       "       [461.29998779],\n",
       "       [458.70001221],\n",
       "       [465.5       ],\n",
       "       [469.5       ],\n",
       "       [472.1499939 ],\n",
       "       [473.        ],\n",
       "       [469.3999939 ],\n",
       "       [476.79998779],\n",
       "       [471.20001221],\n",
       "       [475.20001221],\n",
       "       [473.54998779],\n",
       "       [478.20001221],\n",
       "       [481.6000061 ],\n",
       "       [484.95001221],\n",
       "       [480.25      ],\n",
       "       [483.70001221],\n",
       "       [480.79998779],\n",
       "       [477.1000061 ],\n",
       "       [500.5       ],\n",
       "       [503.6499939 ],\n",
       "       [509.5       ],\n",
       "       [511.6000061 ],\n",
       "       [515.95001221],\n",
       "       [530.84997559],\n",
       "       [521.15002441],\n",
       "       [515.5       ],\n",
       "       [508.45001221],\n",
       "       [524.95001221],\n",
       "       [522.5       ],\n",
       "       [528.5       ],\n",
       "       [520.20001221],\n",
       "       [514.84997559],\n",
       "       [518.45001221],\n",
       "       [521.45001221],\n",
       "       [518.79998779],\n",
       "       [526.29998779],\n",
       "       [535.20001221],\n",
       "       [535.90002441],\n",
       "       [546.25      ],\n",
       "       [555.75      ],\n",
       "       [567.95001221],\n",
       "       [559.70001221],\n",
       "       [562.29998779],\n",
       "       [564.15002441],\n",
       "       [562.20001221],\n",
       "       [570.29998779],\n",
       "       [568.45001221],\n",
       "       [569.79998779],\n",
       "       [566.04998779],\n",
       "       [583.25      ],\n",
       "       [581.40002441],\n",
       "       [569.34997559],\n",
       "       [559.65002441],\n",
       "       [567.84997559],\n",
       "       [573.09997559],\n",
       "       [573.09997559],\n",
       "       [595.54998779],\n",
       "       [590.79998779],\n",
       "       [591.45001221],\n",
       "       [588.25      ],\n",
       "       [600.79998779],\n",
       "       [618.20001221],\n",
       "       [618.65002441],\n",
       "       [628.5       ],\n",
       "       [621.45001221],\n",
       "       [620.65002441],\n",
       "       [624.90002441],\n",
       "       [618.5       ],\n",
       "       [612.09997559],\n",
       "       [620.59997559],\n",
       "       [621.65002441],\n",
       "       [625.75      ],\n",
       "       [629.25      ],\n",
       "       [639.45001221],\n",
       "       [641.09997559],\n",
       "       [643.70001221],\n",
       "       [635.29998779],\n",
       "       [644.29998779],\n",
       "       [643.65002441],\n",
       "       [622.65002441],\n",
       "       [618.95001221],\n",
       "       [615.        ],\n",
       "       [609.5       ],\n",
       "       [607.29998779],\n",
       "       [622.54998779],\n",
       "       [618.25      ],\n",
       "       [611.79998779],\n",
       "       [607.34997559],\n",
       "       [618.75      ],\n",
       "       [613.75      ],\n",
       "       [615.79998779],\n",
       "       [620.5       ],\n",
       "       [620.20001221],\n",
       "       [613.90002441],\n",
       "       [610.95001221],\n",
       "       [605.09997559],\n",
       "       [602.40002441],\n",
       "       [607.15002441],\n",
       "       [605.54998779],\n",
       "       [601.        ],\n",
       "       [611.20001221],\n",
       "       [609.        ],\n",
       "       [611.15002441],\n",
       "       [610.25      ],\n",
       "       [614.90002441],\n",
       "       [627.25      ],\n",
       "       [634.84997559],\n",
       "       [620.79998779],\n",
       "       [625.90002441],\n",
       "       [624.59997559],\n",
       "       [634.25      ],\n",
       "       [640.65002441],\n",
       "       [638.5       ],\n",
       "       [627.04998779],\n",
       "       [620.45001221],\n",
       "       [618.70001221],\n",
       "       [619.79998779],\n",
       "       [620.15002441],\n",
       "       [614.09997559],\n",
       "       [630.20001221]])"
      ]
     },
     "execution_count": 20,
     "metadata": {},
     "output_type": "execute_result"
    }
   ],
   "source": [
    "y_test"
   ]
  },
  {
   "cell_type": "code",
   "execution_count": 21,
   "id": "f054ee86",
   "metadata": {
    "scrolled": false
   },
   "outputs": [
    {
     "data": {
      "text/plain": [
       "<matplotlib.legend.Legend at 0x160f2af3210>"
      ]
     },
     "execution_count": 21,
     "metadata": {},
     "output_type": "execute_result"
    },
    {
     "data": {
      "image/png": "[encoded data removed]",
      "text/plain": [
       "<Figure size 1200x500 with 1 Axes>"
      ]
     },
     "metadata": {},
     "output_type": "display_data"
    }
   ],
   "source": [
    "plt.figure(figsize=(12,5))\n",
    "plt.plot(y_test,'y' ,label='Original price')\n",
    "plt.plot(y_pred,'r' ,label='Predicted price')\n",
    "plt.xlabel('Time')\n",
    "plt.ylabel('Price')\n",
    "plt.legend()"
   ]
  },
  {
   "cell_type": "code",
   "execution_count": 22,
   "id": "2d591d25",
   "metadata": {},
   "outputs": [
    {
     "data": {
      "text/plain": [
       "22.610875776442708"
      ]
     },
     "execution_count": 22,
     "metadata": {},
     "output_type": "execute_result"
    }
   ],
   "source": [
    "from sklearn.metrics import mean_squared_error\n",
    "\n",
    "mean_squared_error(y_test, y_pred,squared=False)"
   ]
  }
 ],
 "metadata": {
  "kernelspec": {
   "display_name": "Python 3 (ipykernel)",
   "language": "python",
   "name": "python3"
  },
  "language_info": {
   "codemirror_mode": {
    "name": "ipython",
    "version": 3
   },
   "file_extension": ".py",
   "mimetype": "text/x-python",
   "name": "python",
   "nbconvert_exporter": "python",
   "pygments_lexer": "ipython3",
   "version": "3.11.5"
  }
 },
 "nbformat": 4,
 "nbformat_minor": 5
}
